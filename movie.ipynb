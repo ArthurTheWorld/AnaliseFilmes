{
 "cells": [
  {
   "cell_type": "code",
   "execution_count": 2,
   "id": "f3f0dcc7",
   "metadata": {},
   "outputs": [],
   "source": [
    "import pandas as pd\n",
    "path = r\"C:\\Users\\Arthur\\Desktop\\RottenTomatoes\"\n"
   ]
  },
  {
   "cell_type": "code",
   "execution_count": 3,
   "id": "5f514d7b",
   "metadata": {},
   "outputs": [],
   "source": [
    "movies = pd.read_csv(r\"C:\\Users\\Arthur\\Desktop\\Portfolio\\Projeto Filmes\\movies.csv\")\n",
    "critic_reviews = pd.read_csv(r\"C:\\Users\\Arthur\\Desktop\\Portfolio\\Projeto Filmes\\critic_reviews.csv\")\n",
    "user_reviews = pd.read_csv(r\"C:\\Users\\Arthur\\Desktop\\Portfolio\\Projeto Filmes\\user_reviews.csv\")"
   ]
  },
  {
   "cell_type": "code",
   "execution_count": 4,
   "id": "5c6b3d77",
   "metadata": {},
   "outputs": [
    {
     "name": "stdout",
     "output_type": "stream",
     "text": [
      "                                movieId  \\\n",
      "0  7b7f4c61-df44-3341-92a8-05e2a5392c83   \n",
      "1  a7c93404-c661-3e6e-a310-0bcfc4d8c31b   \n",
      "2  ecfc82ed-e044-3e1e-a16e-afc0e65647f8   \n",
      "3  4f5c44d2-9129-3218-a535-160ae71833ae   \n",
      "4  b6650937-454f-3cbe-bb1f-8b2cba0f3fb9   \n",
      "\n",
      "                                         movieTitle  movieYear  \\\n",
      "0                                      12 Angry Men       1957   \n",
      "1                             2001: A Space Odyssey       1968   \n",
      "2                                     The 400 Blows       1959   \n",
      "3  The Adventures of Priscilla, Queen of the Desert       1994   \n",
      "4                      The Adventures of Robin Hood       1938   \n",
      "\n",
      "                                            movieURL  movieRank critic_score  \\\n",
      "0  https://www.rottentomatoes.com/m/1000013_12_an...          1         100%   \n",
      "1  https://www.rottentomatoes.com/m/2001_a_space_...          2          92%   \n",
      "2         https://www.rottentomatoes.com/m/400_blows          3          99%   \n",
      "3  https://www.rottentomatoes.com/m/adventures_of...          4          94%   \n",
      "4  https://www.rottentomatoes.com/m/1000355-adven...          5         100%   \n",
      "\n",
      "  audience_score  \n",
      "0            97%  \n",
      "1            89%  \n",
      "2            94%  \n",
      "3            88%  \n",
      "4            89%  \n",
      "   reviewId creationDate          criticName                criticPageUrl  \\\n",
      "0   1898299   1928-04-21  James Berardinelli  /critics/james-berardinelli   \n",
      "1   1910277   1934-02-22  James Berardinelli  /critics/james-berardinelli   \n",
      "2   1901502   1941-05-01     Owen Gleiberman     /critics/owen-gleiberman   \n",
      "3   1915232   1941-10-18          Scott Nash          /critics/scott-nash   \n",
      "4   1909195   1943-06-01          Scott Nash          /critics/scott-nash   \n",
      "\n",
      "  reviewState  isFresh  isRotten isRtUrl  isTopCritic        publicationUrl  \\\n",
      "0       fresh     True     False   False        False   /critics/source/387   \n",
      "1       fresh     True     False   False        False   /critics/source/387   \n",
      "2       fresh     True     False   False         True   /critics/source/150   \n",
      "3       fresh     True     False   False        False  /critics/source/1465   \n",
      "4       fresh     True     False   False        False  /critics/source/1465   \n",
      "\n",
      "        publicationName                                          reviewUrl  \\\n",
      "0             ReelViews  http://www.reelviews.net/php_review_template.p...   \n",
      "1             ReelViews  http://www.reelviews.net/php_review_template.p...   \n",
      "2  Entertainment Weekly     http://www.ew.com/ew/article/0,,314144,00.html   \n",
      "3     Three Movie Buffs  http://www.threemoviebuffs.com/review/maltesef...   \n",
      "4     Three Movie Buffs   http://www.threemoviebuffs.com/review/casablanca   \n",
      "\n",
      "                                               quote scoreSentiment  \\\n",
      "0  When one speaks of The Passion of Joan of Arc,...       POSITIVE   \n",
      "1  Its opposites-attract melding of screwball com...       POSITIVE   \n",
      "2  Fifty years after its release, Citizen Kane st...       POSITIVE   \n",
      "3  It really set the standard for hard-boiled det...       POSITIVE   \n",
      "4  This movie is like Hamlet in that, even if you...       POSITIVE   \n",
      "\n",
      "  originalScore                               movieId  \n",
      "0         3.5/4  5b9d6d75-a097-3dd7-86e4-5332e3f90e1e  \n",
      "1         3.5/4  72619c50-e028-3cfe-ae53-6cb86204389c  \n",
      "2            A+  18af2553-dc8f-3607-a605-92e907068433  \n",
      "3           4/4  916f85d7-666b-32cd-8110-ff2cf925f2a7  \n",
      "4           4/4  744d4aea-e6ad-3c9a-9723-ee9b10505b98  \n",
      "   rating                                              quote reviewId  \\\n",
      "0     4.5  A scaringly real look at network where ratings...      NaN   \n",
      "1     4.5  [font=Arial][size=3][color=black]A Freudian in...      NaN   \n",
      "2     3.0  [font=Arial][size=3][color=black]I saw the fil...      NaN   \n",
      "3     4.0  [url=\"http://www.rottentomatoes.com/m/CinemaPa...      NaN   \n",
      "4     3.5  [size=3]These social constructionists have sur...      NaN   \n",
      "\n",
      "   isVerified  isSuperReviewer  hasSpoilers  hasProfanity  score creationDate  \\\n",
      "0       False            False        False         False    4.5   1997-12-08   \n",
      "1       False            False        False         False    4.5   1999-06-18   \n",
      "2       False            False        False         False    3.0   1999-09-16   \n",
      "3       False            False        False         False    4.0   2000-04-05   \n",
      "4       False            False        False         False    3.5   2000-05-31   \n",
      "\n",
      "  userDisplayName userRealm     userId                               movieId  \n",
      "0             NaN        RT  900598674  4d2ce818-75d1-3326-a39b-8be77771dffa  \n",
      "1             NaN        RT  900666908  744d4aea-e6ad-3c9a-9723-ee9b10505b98  \n",
      "2             NaN        RT  900666908  c8afce97-a899-3ba6-a919-a3a1e2608fba  \n",
      "3             NaN        RT  900666908  cac60f63-9b83-386e-a5d8-e1b081702303  \n",
      "4             NaN        RT  900666908  50db7822-8273-3801-ba83-dad17be07c7d  \n"
     ]
    }
   ],
   "source": [
    "print(movies.head())\n",
    "print(critic_reviews.head())\n",
    "print(user_reviews.head())"
   ]
  },
  {
   "cell_type": "code",
   "execution_count": 5,
   "id": "3df2128f",
   "metadata": {},
   "outputs": [
    {
     "name": "stdout",
     "output_type": "stream",
     "text": [
      "<class 'pandas.core.frame.DataFrame'>\n",
      "RangeIndex: 300 entries, 0 to 299\n",
      "Data columns (total 7 columns):\n",
      " #   Column          Non-Null Count  Dtype \n",
      "---  ------          --------------  ----- \n",
      " 0   movieId         300 non-null    object\n",
      " 1   movieTitle      300 non-null    object\n",
      " 2   movieYear       300 non-null    int64 \n",
      " 3   movieURL        300 non-null    object\n",
      " 4   movieRank       300 non-null    int64 \n",
      " 5   critic_score    300 non-null    object\n",
      " 6   audience_score  300 non-null    object\n",
      "dtypes: int64(2), object(5)\n",
      "memory usage: 16.5+ KB\n",
      "None\n",
      "<class 'pandas.core.frame.DataFrame'>\n",
      "RangeIndex: 42041 entries, 0 to 42040\n",
      "Data columns (total 16 columns):\n",
      " #   Column           Non-Null Count  Dtype \n",
      "---  ------           --------------  ----- \n",
      " 0   reviewId         42041 non-null  int64 \n",
      " 1   creationDate     42041 non-null  object\n",
      " 2   criticName       41588 non-null  object\n",
      " 3   criticPageUrl    41588 non-null  object\n",
      " 4   reviewState      42041 non-null  object\n",
      " 5   isFresh          42041 non-null  bool  \n",
      " 6   isRotten         42041 non-null  bool  \n",
      " 7   isRtUrl          39155 non-null  object\n",
      " 8   isTopCritic      42041 non-null  bool  \n",
      " 9   publicationUrl   42041 non-null  object\n",
      " 10  publicationName  42041 non-null  object\n",
      " 11  reviewUrl        36042 non-null  object\n",
      " 12  quote            40178 non-null  object\n",
      " 13  scoreSentiment   42041 non-null  object\n",
      " 14  originalScore    27270 non-null  object\n",
      " 15  movieId          42041 non-null  object\n",
      "dtypes: bool(3), int64(1), object(12)\n",
      "memory usage: 4.3+ MB\n",
      "None\n",
      "<class 'pandas.core.frame.DataFrame'>\n",
      "RangeIndex: 7344171 entries, 0 to 7344170\n",
      "Data columns (total 13 columns):\n",
      " #   Column           Dtype  \n",
      "---  ------           -----  \n",
      " 0   rating           float64\n",
      " 1   quote            object \n",
      " 2   reviewId         object \n",
      " 3   isVerified       bool   \n",
      " 4   isSuperReviewer  bool   \n",
      " 5   hasSpoilers      bool   \n",
      " 6   hasProfanity     bool   \n",
      " 7   score            float64\n",
      " 8   creationDate     object \n",
      " 9   userDisplayName  object \n",
      " 10  userRealm        object \n",
      " 11  userId           object \n",
      " 12  movieId          object \n",
      "dtypes: bool(4), float64(2), object(7)\n",
      "memory usage: 532.3+ MB\n",
      "None\n",
      "movieId           0\n",
      "movieTitle        0\n",
      "movieYear         0\n",
      "movieURL          0\n",
      "movieRank         0\n",
      "critic_score      0\n",
      "audience_score    0\n",
      "dtype: int64\n",
      "reviewId               0\n",
      "creationDate           0\n",
      "criticName           453\n",
      "criticPageUrl        453\n",
      "reviewState            0\n",
      "isFresh                0\n",
      "isRotten               0\n",
      "isRtUrl             2886\n",
      "isTopCritic            0\n",
      "publicationUrl         0\n",
      "publicationName        0\n",
      "reviewUrl           5999\n",
      "quote               1863\n",
      "scoreSentiment         0\n",
      "originalScore      14771\n",
      "movieId                0\n",
      "dtype: int64\n",
      "rating                   0\n",
      "quote                    0\n",
      "reviewId           6423069\n",
      "isVerified               0\n",
      "isSuperReviewer          0\n",
      "hasSpoilers              0\n",
      "hasProfanity             0\n",
      "score                    0\n",
      "creationDate             0\n",
      "userDisplayName    7267063\n",
      "userRealm                0\n",
      "userId                   0\n",
      "movieId              31306\n",
      "dtype: int64\n"
     ]
    }
   ],
   "source": [
    "print(movies.info())\n",
    "print(critic_reviews.info())\n",
    "print(user_reviews.info())\n",
    "\n",
    "print(movies.isna().sum())\n",
    "print(critic_reviews.isna().sum())\n",
    "print(user_reviews.isna().sum())"
   ]
  },
  {
   "cell_type": "code",
   "execution_count": 6,
   "id": "da726251",
   "metadata": {},
   "outputs": [
    {
     "name": "stdout",
     "output_type": "stream",
     "text": [
      "Index(['movieid', 'movietitle', 'movieyear', 'movieurl', 'movierank',\n",
      "       'critic_score', 'audience_score'],\n",
      "      dtype='object')\n"
     ]
    }
   ],
   "source": [
    "\n",
    "movies.columns = movies.columns.str.strip().str.lower()  # remove espaços e deixa minúsculas\n",
    "\n",
    "\n",
    "print(movies.columns)\n"
   ]
  },
  {
   "cell_type": "code",
   "execution_count": 7,
   "id": "7bea54e7",
   "metadata": {},
   "outputs": [],
   "source": [
    "movies['movieyear'] = movies['movieyear'].astype(int)\n"
   ]
  },
  {
   "cell_type": "code",
   "execution_count": 8,
   "id": "c9dcef81",
   "metadata": {},
   "outputs": [
    {
     "name": "stdout",
     "output_type": "stream",
     "text": [
      "         movieyear   movierank\n",
      "count   300.000000  300.000000\n",
      "mean   1982.550000  150.500000\n",
      "std      24.168462   86.746758\n",
      "min    1919.000000    1.000000\n",
      "25%    1964.750000   75.750000\n",
      "50%    1987.000000  150.500000\n",
      "75%    2001.000000  225.250000\n",
      "max    2019.000000  300.000000\n",
      "           reviewId\n",
      "count  4.204100e+04\n",
      "mean   1.110852e+07\n",
      "std    2.927124e+07\n",
      "min    2.400000e+01\n",
      "25%    1.322744e+06\n",
      "50%    2.132359e+06\n",
      "75%    2.540342e+06\n",
      "max    1.029238e+08\n",
      "             rating         score\n",
      "count  7.344171e+06  7.344171e+06\n",
      "mean   3.949779e+00  3.949779e+00\n",
      "std    1.202848e+00  1.202848e+00\n",
      "min    5.000000e-01  5.000000e-01\n",
      "25%    3.500000e+00  3.500000e+00\n",
      "50%    4.500000e+00  4.500000e+00\n",
      "75%    5.000000e+00  5.000000e+00\n",
      "max    5.000000e+00  5.000000e+00\n"
     ]
    }
   ],
   "source": [
    "print(movies.describe())\n",
    "print(critic_reviews.describe())\n",
    "print(user_reviews.describe())"
   ]
  },
  {
   "cell_type": "code",
   "execution_count": 79,
   "id": "8b3e29af",
   "metadata": {},
   "outputs": [
    {
     "name": "stdout",
     "output_type": "stream",
     "text": [
      "movieid           0\n",
      "movietitle        0\n",
      "movieyear         0\n",
      "movieurl          0\n",
      "movierank         0\n",
      "critic_score      0\n",
      "audience_score    0\n",
      "dtype: int64\n",
      "reviewId               0\n",
      "creationDate           0\n",
      "criticName           453\n",
      "criticPageUrl        453\n",
      "reviewState            0\n",
      "isFresh                0\n",
      "isRotten               0\n",
      "isRtUrl             2886\n",
      "isTopCritic            0\n",
      "publicationUrl         0\n",
      "publicationName        0\n",
      "reviewUrl           5999\n",
      "quote               1863\n",
      "scoreSentiment         0\n",
      "originalScore      14771\n",
      "movieId                0\n",
      "dtype: int64\n",
      "rating                   0\n",
      "quote                    0\n",
      "reviewId           6423069\n",
      "isVerified               0\n",
      "isSuperReviewer          0\n",
      "hasSpoilers              0\n",
      "hasProfanity             0\n",
      "score                    0\n",
      "creationDate             0\n",
      "userDisplayName    7267063\n",
      "userRealm                0\n",
      "userId                   0\n",
      "movieId              31306\n",
      "dtype: int64\n"
     ]
    }
   ],
   "source": [
    "print(movies.isna().sum())\n",
    "print(critic_reviews.isna().sum())\n",
    "print(user_reviews.isna().sum())"
   ]
  },
  {
   "cell_type": "code",
   "execution_count": 81,
   "id": "ac02fe69",
   "metadata": {},
   "outputs": [],
   "source": [
    "critic_reviews.columns = critic_reviews.columns.str.strip().str.lower()\n",
    "user_reviews.columns = user_reviews.columns.str.strip().str.lower()"
   ]
  },
  {
   "cell_type": "code",
   "execution_count": 82,
   "id": "642a0ff5",
   "metadata": {},
   "outputs": [
    {
     "name": "stdout",
     "output_type": "stream",
     "text": [
      "Index(['reviewid', 'creationdate', 'criticname', 'criticpageurl',\n",
      "       'reviewstate', 'isfresh', 'isrotten', 'isrturl', 'istopcritic',\n",
      "       'publicationurl', 'publicationname', 'reviewurl', 'quote',\n",
      "       'scoresentiment', 'originalscore', 'movieid'],\n",
      "      dtype='object')\n",
      "Index(['rating', 'quote', 'reviewid', 'isverified', 'issuperreviewer',\n",
      "       'hasspoilers', 'hasprofanity', 'score', 'creationdate',\n",
      "       'userdisplayname', 'userrealm', 'userid', 'movieid'],\n",
      "      dtype='object')\n"
     ]
    }
   ],
   "source": [
    "print(critic_reviews.columns)\n",
    "print(user_reviews.columns)"
   ]
  },
  {
   "cell_type": "code",
   "execution_count": 84,
   "id": "bbda8be2",
   "metadata": {},
   "outputs": [],
   "source": [
    "critic_reviews_clean = critic_reviews[['movieid', 'scoresentiment', 'isfresh', 'originalscore']].copy()\n",
    "user_reviews_clean = user_reviews.dropna(subset=['movieid']).copy()"
   ]
  },
  {
   "cell_type": "code",
   "execution_count": 86,
   "id": "a90eb3d7",
   "metadata": {},
   "outputs": [
    {
     "name": "stdout",
     "output_type": "stream",
     "text": [
      "Index(['rating', 'quote', 'reviewid', 'isverified', 'issuperreviewer',\n",
      "       'hasspoilers', 'hasprofanity', 'score', 'creationdate',\n",
      "       'userdisplayname', 'userrealm', 'userid', 'movieid'],\n",
      "      dtype='object')\n"
     ]
    }
   ],
   "source": [
    "print(user_reviews_clean.columns)"
   ]
  },
  {
   "cell_type": "code",
   "execution_count": 90,
   "id": "994ef5b2",
   "metadata": {},
   "outputs": [],
   "source": [
    "critic_reviews_clean['scoresentiment'] = pd.to_numeric(critic_reviews_clean['scoresentiment'], errors='coerce')\n",
    "user_reviews_clean['rating'] = pd.to_numeric(user_reviews_clean['rating'], errors='coerce')"
   ]
  },
  {
   "cell_type": "code",
   "execution_count": 91,
   "id": "8c937351",
   "metadata": {},
   "outputs": [],
   "source": [
    "critic_reviews_clean = critic_reviews_clean.dropna(subset=['scoresentiment'])\n",
    "user_reviews_clean = user_reviews_clean.dropna(subset=['rating'])"
   ]
  },
  {
   "cell_type": "code",
   "execution_count": 92,
   "id": "77934087",
   "metadata": {},
   "outputs": [],
   "source": [
    "critic_avg = critic_reviews_clean.groupby('movieid')['scoresentiment'].mean().reset_index()\n",
    "critic_avg.rename(columns={'scoresentiment': 'critic_avg_score'}, inplace=True)\n",
    "\n",
    "user_avg = user_reviews_clean.groupby('movieid')['rating'].mean().reset_index()\n",
    "user_avg.rename(columns={'rating': 'audience_avg_score'}, inplace=True)\n",
    "\n",
    "movies_ratings = movies.merge(critic_avg, on='movieid', how='left')\n",
    "movies_ratings = movies_ratings.merge(user_avg, on='movieid', how='left')"
   ]
  },
  {
   "cell_type": "code",
   "execution_count": 97,
   "id": "a6c2ec0f",
   "metadata": {},
   "outputs": [],
   "source": [
    "movies['movieid'] = movies['movieid'].astype(str)\n",
    "critic_avg['movieid'] = critic_avg['movieid'].astype(str)\n",
    "user_avg['movieid'] = user_avg['movieid'].astype(str)\n"
   ]
  },
  {
   "cell_type": "code",
   "execution_count": 98,
   "id": "31b9bfe0",
   "metadata": {},
   "outputs": [],
   "source": [
    "movies_ratings = movies.merge(critic_avg, on='movieid', how='left')\n",
    "movies_ratings = movies_ratings.merge(user_avg, on='movieid', how='left')"
   ]
  },
  {
   "cell_type": "code",
   "execution_count": null,
   "id": "2f36d820",
   "metadata": {},
   "outputs": [
    {
     "name": "stdout",
     "output_type": "stream",
     "text": [
      "                     movietitle  audience_avg_score\n",
      "245    The Shawshank Redemption            4.739859\n",
      "241               Seven Samurai            4.738414\n",
      "112               The Godfather            4.701802\n",
      "138                       Ikiru            4.675951\n",
      "58              Cinema Paradiso            4.671384\n",
      "170           Love & Basketball            4.658007\n",
      "113      The Godfather, Part II            4.654343\n",
      "117                  Goodfellas            4.653834\n",
      "57                  City of God            4.647132\n",
      "204  The Passion of Joan of Arc            4.637734\n"
     ]
    }
   ],
   "source": [
    "user_reviews_clean['rating'] = pd.to_numeric(user_reviews_clean['rating'], errors='coerce')\n",
    "user_reviews_clean = user_reviews_clean.dropna(subset=['rating'])\n",
    "\n",
    "\n",
    "user_avg = user_reviews_clean.groupby('movieid')['rating'].mean().reset_index()\n",
    "user_avg.rename(columns={'rating': 'audience_avg_score'}, inplace=True)\n",
    "\n",
    "\n",
    "movies_ratings = movies.merge(user_avg, on='movieid', how='left')\n",
    "\n",
    "\n",
    "top_audience = movies_ratings.sort_values('audience_avg_score', ascending=False).head(10)\n",
    "print(top_audience[['movietitle', 'audience_avg_score']])"
   ]
  },
  {
   "cell_type": "code",
   "execution_count": null,
   "id": "a42694af",
   "metadata": {},
   "outputs": [
    {
     "name": "stdout",
     "output_type": "stream",
     "text": [
      "count    299.000000\n",
      "mean       4.215510\n",
      "std        0.280201\n",
      "min        2.671875\n",
      "25%        4.047940\n",
      "50%        4.271428\n",
      "75%        4.410526\n",
      "max        4.739859\n",
      "Name: audience_avg_score, dtype: float64\n"
     ]
    }
   ],
   "source": [
    "\n",
    "print(movies_ratings['audience_avg_score'].describe())\n"
   ]
  },
  {
   "cell_type": "code",
   "execution_count": null,
   "id": "2a6c7cc7",
   "metadata": {},
   "outputs": [
    {
     "name": "stdout",
     "output_type": "stream",
     "text": [
      "                     movietitle  audience_avg_score\n",
      "245    The Shawshank Redemption            4.739859\n",
      "241               Seven Samurai            4.738414\n",
      "112               The Godfather            4.701802\n",
      "138                       Ikiru            4.675951\n",
      "58              Cinema Paradiso            4.671384\n",
      "170           Love & Basketball            4.658007\n",
      "113      The Godfather, Part II            4.654343\n",
      "117                  Goodfellas            4.653834\n",
      "57                  City of God            4.647132\n",
      "204  The Passion of Joan of Arc            4.637734\n"
     ]
    }
   ],
   "source": [
    "\n",
    "top_audience = movies_ratings.sort_values('audience_avg_score', ascending=False).head(10)\n",
    "print(top_audience[['movietitle', 'audience_avg_score']])\n"
   ]
  },
  {
   "cell_type": "code",
   "execution_count": null,
   "id": "9ec2a8cf",
   "metadata": {},
   "outputs": [],
   "source": [
    "\n",
    "movies_ratings_plot = movies_ratings.dropna(subset=['audience_avg_score', 'movieyear'])\n"
   ]
  },
  {
   "cell_type": "code",
   "execution_count": 134,
   "id": "d4c1691d",
   "metadata": {},
   "outputs": [],
   "source": [
    "movies_ratings_plot = movies_ratings_plot.merge(\n",
    "    critic_avg[['movieid', 'critic_avg_score']],\n",
    "    on='movieid',\n",
    "    how='left'\n",
    ")"
   ]
  }
 ],
 "metadata": {
  "kernelspec": {
   "display_name": "Python 3",
   "language": "python",
   "name": "python3"
  },
  "language_info": {
   "codemirror_mode": {
    "name": "ipython",
    "version": 3
   },
   "file_extension": ".py",
   "mimetype": "text/x-python",
   "name": "python",
   "nbconvert_exporter": "python",
   "pygments_lexer": "ipython3",
   "version": "3.11.9"
  }
 },
 "nbformat": 4,
 "nbformat_minor": 5
}
