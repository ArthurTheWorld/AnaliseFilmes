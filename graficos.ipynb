{
 "cells": [
  {
   "cell_type": "code",
   "execution_count": 105,
   "id": "c231cb7a",
   "metadata": {},
   "outputs": [
    {
     "data": {
      "application/vnd.plotly.v1+json": {
       "config": {
        "plotlyServerURL": "https://plot.ly"
       },
       "data": [
        {
         "hovertemplate": "<b>%{hovertext}</b><br><br>Ano=%{x}<br>Nota média=%{marker.color}<extra></extra>",
         "hovertext": [
          "12 homens irritados",
          "2001: Uma Odisseia no Espaço",
          "Os 400 golpes",
          "As Aventuras de Robin Hood",
          "Avião!",
          "Akira",
          "Estrangeiro",
          "Alienígenas",
          "As Aventuras de Priscila, Rainha do Deserto",
          "Aguirre: A Ira de Deus",
          "Tudo sobre Eva",
          "Tudo sobre minha mãe",
          "Todos os homens do presidente",
          "Quase Famoso",
          "Amadeus",
          "Amélie",
          "Amor",
          "Um americano em Paris",
          "Anne Hall",
          "O apartamento",
          "Apocalipse agora",
          "Vingadores: Ultimato",
          "De volta para o futuro",
          "Badlands",
          "A bela e a fera",
          "Ser John Malkovich",
          "Estar lá",
          "Os melhores anos de nossas vidas",
          "Melhor sorte amanhã",
          "Ladrões de bicicletas",
          "O Grande Lebowski",
          "Noites de dança",
          "Meninos não choram",
          "O grande doente",
          "Birdman ou (A Inesperada Virtude da Ignorância)",
          "Falcão Negro abatido",
          "Orfeu Negro",
          "Pantera Negra",
          "Corredor de lâminas",
          "Selas Flamejantes",
          "Boyz e o Capuz",
          "A ponte sobre o rio Kwai",
          "O Clube do Café da Manhã",
          "Sem fôlego",
          "Damas de honra",
          "Transmitir notícias",
          "Montanha de Brokeback",
          "Butch Cassidy e o Sundance Kid",
          "Cabaré",
          "Diário de Bridget Jones",
          "O Gabinete do Dr. Caligari",
          "Me chame pelo seu nome",
          "Carol",
          "Casablanca",
          "Cassino Real",
          "Filhos dos Homens",
          "Chinatown",
          "Cidade de Deus",
          "Cinema Paraíso",
          "Cidadão Kane",
          "Luzes da cidade",
          "Asiáticos ricos e loucos",
          "Clerks",
          "Uma Laranja Mecânica",
          "Clueless",
          "Coco",
          "Tigre Agachado, Dragão Oculto",
          "O Cavaleiro das Trevas",
          "Crença",
          "Amanhecer dos Mortos",
          "Atordoado e confuso",
          "Doutor Strangelove Ou: Como aprendi a parar de me preocupar e amar a bomba",
          "Morrer Difícil",
          "Faça a coisa certa",
          "Doutor Jivago",
          "Tarde de Dia de Cachorro",
          "Não olhe agora",
          "Dupla Indenização",
          "O Dia em que a Terra Parou",
          "Sociedade dos Poetas Mortos",
          "Drácula",
          "Dirigir",
          "Mestre Bêbado II",
          "Sopa de Pato",
          "E.T.o Extraterrestre",
          "Cavaleiro Fácil",
          "Eduardo Mãos de Tesoura",
          "Eleição",
          "O Homem Elefante",
          "Entre no dragão",
          "Brilho Eterno da Mente Sem Lembranças",
          "Mal morto 2",
          "O Exorcista",
          "A despedida",
          "Fargo",
          "Cinco rápidos",
          "Tempos rápidos em Ridgemont High",
          "Clube da Luta",
          "Aquário",
          "Planeta Proibido",
          "Galípoli",
          "Quatro casamentos e um funeral",
          "Frankenstein",
          "A conexão francesa",
          "Frida",
          "Gattaca",
          "O Geral",
          "Sair",
          "Fantasma na Concha",
          "Gandhi",
          "Caça-fantasmas",
          "Viagem de meninas",
          "Grande Ilusão",
          "O Poderoso Chefão, Parte II",
          "Godzilla",
          "007: Dedo de Ouro",
          "O Bom, o Mau e o Feio",
          "Bons companheiros",
          "O Grande Hotel Budapeste",
          "O padrinho",
          "As Vinhas da Ira",
          "Graxa",
          "A Grande Fuga",
          "Dia da Marmota",
          "Guardiões da Galáxia",
          "Laca para cabelo",
          "dia das bruxas",
          "Noite de um dia difícil",
          "Haroldo e Maude",
          "Harry Potter e o Prisioneiro de Azkaban",
          "Herói",
          "O ódio que você dá",
          "Aquecer",
          "Urzes",
          "Edwiges e o Polegada Furiosa",
          "Meio-dia",
          "Sua garota sexta-feira",
          "A caça",
          "Ikiru",
          "No calor da noite",
          "Com vontade de amar",
          "Começo",
          "Homem de Ferro",
          "Bastardos Inglórios",
          "De dentro para fora",
          "O gigante de ferro",
          "Aconteceu uma noite",
          "É uma vida maravilhosa",
          "Maxilas",
          "John Wick",
          "Parque Jurássico",
          "Rei Kong",
          "Confidencial de Los Angeles",
          "A aventura",
          "La Bamba",
          "A Dolce Vita",
          "Senhora Pássaro",
          "A Senhora Eva",
          "Lourenço da Arábia",
          "Deixe a pessoa certa entrar",
          "Arma letal",
          "O Rei Leão",
          "Como água para chocolate",
          "A Pequena Sereia",
          "Logan",
          "O Senhor dos Anéis: A Sociedade do Anel",
          "O Senhor dos Anéis: O Retorno do Rei",
          "O Senhor dos Anéis: As Duas Torres",
          "Pequena Loja dos Horrores",
          "Perdido na tradução",
          "Amor e Basquete",
          "Mad Max: Estrada da Fúria",
          "Malcolm X",
          "O falcão maltês",
          "O candidato da Manchúria",
          "A Matriz",
          "Garotas Malvadas",
          "Metrópole",
          "Tempos Modernos",
          "Casamento das monções",
          "Monty Python e o Santo Graal",
          "Mulholland Dr.",
          "Luar",
          "Meu vizinho Totoro",
          "Nu",
          "A arma nua",
          "Nashville",
          "Meu pé esquerdo",
          "Casa de Animais do Lampoon Nacional",
          "Rede",
          "A Noite do Caçador",
          "Noite dos Mortos-Vivos",
          "Um pesadelo na Elm Street",
          "Não há país para velhos",
          "Norte por Noroeste",
          "Notting Hill",
          "Velho garoto",
          "À beira-mar",
          "Um voou sobre o ninho do cuco",
          "Somente ontem",
          "Cidade Aberta",
          "Labirinto do Fauno",
          "Caixa de Pandora",
          "Parasita",
          "A Paixão de Joana D'Arc",
          "Pater Panchali",
          "A história da Filadélfia",
          "O piano",
          "Pinóquio",
          "Afinação perfeita",
          "Pretty in Pink",
          "The Player",
          "Pulp Fiction",
          "Playtime",
          "Portrait of a Lady on Fire",
          "Princess Mononoke",
          "Psycho",
          "Raging Bull",
          "The Princess Bride",
          "Rafiki",
          "Os Caçadores da Arca Perdida",
          "Rashomon",
          "Janela traseira",
          "Os sapatos vermelhos",
          "Homem do repositório",
          "Réquiem para um sonho",
          "Robo Cop",
          "Rocky",
          "Feriado Romano",
          "O bebê de Rosemary",
          "As regras do jogo",
          "Salvando a cara",
          "Salvando o Soldado Ryan",
          "Diga qualquer coisa...",
          "Cicatriz",
          "Lista de Schindler",
          "Gritar",
          "O mar por dentro",
          "Os pesquisadores",
          "Selma",
          "Sete",
          "Sete Samurais",
          "O Sétimo Selo",
          "Haste",
          "Shaun dos Mortos",
          "A Redenção de Shawshank",
          "O Iluminado",
          "Ladrões de lojas",
          "Shrek",
          "O Silêncio dos Inocentes",
          "Cantando na Chuva",
          "O Sexto Sentido",
          "Milionário do Slumdog",
          "Branca de Neve e os Sete Anões",
          "Alguns gostam de calor",
          "O som da música",
          "Homem-Aranha: No Aranhaverso",
          "Afastado de espírito",
          "Star Wars: Episódio IV - Uma Nova Esperança",
          "Solaris",
          "Star Wars: Episódio V - O Império Contra-Ataca",
          "Direto de Compton",
          "Avenida Pôr do Sol",
          "Muito ruim",
          "Super-homem: o filme",
          "Suspiria",
          "O Conto da Princesa Kaguya",
          "tangerina",
          "Taxista",
          "O Exterminador do Futuro",
          "Terminator 2: Dia do Julgamento",
          "Isto é punção lombar",
          "Titanic",
          "Ser ou não ser",
          "Para matar um Mockingbird",
          "História de Tóquio",
          "Thelma e Luísa",
          "Haverá sangue",
          "A coisa",
          "O Terceiro Homem",
          "Tootsie",
          "Rechamada total",
          "História de brinquedos",
          "Localização de trens",
          "O Tesouro da Sierra Madre",
          "Os guarda-chuvas de Cherbourg",
          "Gemas brutas",
          "Imperdoável",
          "Vertigem",
          "Voltar",
          "História do lado oeste",
          "Wendy e Lúcia",
          "O bando selvagem",
          "Morangos Silvestres",
          "O Mágico de Oz",
          "Mulher Maravilha",
          "E sua mãe também",
          "A irmã da sua irmã",
          "Zero Escuro Trinta",
          "O que o amor tem a ver com isso"
         ],
         "legendgroup": "",
         "marker": {
          "color": {
           "bdata": "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",
           "dtype": "f8"
          },
          "coloraxis": "coloraxis",
          "size": {
           "bdata": "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",
           "dtype": "f8"
          },
          "sizemode": "area",
          "sizeref": 0.24625,
          "symbol": "circle"
         },
         "mode": "markers",
         "name": "",
         "orientation": "v",
         "showlegend": false,
         "type": "scatter",
         "x": {
          "bdata": "pQewB6cHygeSB7QHvAfEB7sHwgeeB88HuAfQB8AH0QfcB58HuQeoB7sH4wfBB7UHxwfPB7sHmgfSB5wHzgfhB94H0QenB+IHvge2B80HzwfHB8EHpwfbB6UH0QfDB9UHsQe0B38H4QffB5YH1gfWB7YH0gfEB5UHiwfKB7MHywfhB+IH3wfQB9gHugefB8kHxQfEB8UHrQe3B7UHmAesB4sH2wfKB40HvgexB8YHzwe8B7UH1AfDB7UH4wfMB9sHvgfPB9kHpAfKB4sHswfSB70HvgfNB4YH4QfLB8AH4Qe0B7YHogesB68HxgfeB5EHlAe6B6sHyQfeB8QHugesB7MH1AfiB8sHxQfRB9IHoAeUB9wHoAevB9AH2gfZB98HzwfYB44Hmge3B94HyQeNB80HqAfDB6gH4QeVB6oH2AfDB8gHygfFB8IH4QfRB9MH0gfTB9AH3wfIB5UHqgfPB9QHhweQB9EHtwfgB9EHxQfEB8kHxAe3B7oHuAejB7AHwAfXB6cHzwfTB6IHtwfHB5kH1geJB+MHiAejB5QHyQeUB9wHyAevB+MHwgfDB80HqAfKB+IHvAe9B54HogecB8AH0AfDB7gHoQewB5MH1AfOB8UHvwfJB8wH1AekB94HyweiB6UHswfUB8oHvAfiB9EHxwegB88H2AeRB7QHpwetB+IH0Qe5B7wH3weeB9cHuge5B90H3we4B8AHxwfHB9cHvgedB8AHzQeWB6oHoQe+B8YHywfMB5wHrAfjB8gHpgfWB9gHqQfJB7EHpQeTB+EH0QfbB9wH",
          "dtype": "i2"
         },
         "xaxis": "x",
         "y": {
          "bdata": "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",
          "dtype": "f8"
         },
         "yaxis": "y"
        }
       ],
       "layout": {
        "coloraxis": {
         "colorbar": {
          "title": {
           "text": "Nota média"
          }
         },
         "colorscale": [
          [
           0,
           "#0d0887"
          ],
          [
           0.1111111111111111,
           "#46039f"
          ],
          [
           0.2222222222222222,
           "#7201a8"
          ],
          [
           0.3333333333333333,
           "#9c179e"
          ],
          [
           0.4444444444444444,
           "#bd3786"
          ],
          [
           0.5555555555555556,
           "#d8576b"
          ],
          [
           0.6666666666666666,
           "#ed7953"
          ],
          [
           0.7777777777777778,
           "#fb9f3a"
          ],
          [
           0.8888888888888888,
           "#fdca26"
          ],
          [
           1,
           "#f0f921"
          ]
         ]
        },
        "legend": {
         "itemsizing": "constant",
         "tracegroupgap": 0
        },
        "template": {
         "data": {
          "bar": [
           {
            "error_x": {
             "color": "#2a3f5f"
            },
            "error_y": {
             "color": "#2a3f5f"
            },
            "marker": {
             "line": {
              "color": "#E5ECF6",
              "width": 0.5
             },
             "pattern": {
              "fillmode": "overlay",
              "size": 10,
              "solidity": 0.2
             }
            },
            "type": "bar"
           }
          ],
          "barpolar": [
           {
            "marker": {
             "line": {
              "color": "#E5ECF6",
              "width": 0.5
             },
             "pattern": {
              "fillmode": "overlay",
              "size": 10,
              "solidity": 0.2
             }
            },
            "type": "barpolar"
           }
          ],
          "carpet": [
           {
            "aaxis": {
             "endlinecolor": "#2a3f5f",
             "gridcolor": "white",
             "linecolor": "white",
             "minorgridcolor": "white",
             "startlinecolor": "#2a3f5f"
            },
            "baxis": {
             "endlinecolor": "#2a3f5f",
             "gridcolor": "white",
             "linecolor": "white",
             "minorgridcolor": "white",
             "startlinecolor": "#2a3f5f"
            },
            "type": "carpet"
           }
          ],
          "choropleth": [
           {
            "colorbar": {
             "outlinewidth": 0,
             "ticks": ""
            },
            "type": "choropleth"
           }
          ],
          "contour": [
           {
            "colorbar": {
             "outlinewidth": 0,
             "ticks": ""
            },
            "colorscale": [
             [
              0,
              "#0d0887"
             ],
             [
              0.1111111111111111,
              "#46039f"
             ],
             [
              0.2222222222222222,
              "#7201a8"
             ],
             [
              0.3333333333333333,
              "#9c179e"
             ],
             [
              0.4444444444444444,
              "#bd3786"
             ],
             [
              0.5555555555555556,
              "#d8576b"
             ],
             [
              0.6666666666666666,
              "#ed7953"
             ],
             [
              0.7777777777777778,
              "#fb9f3a"
             ],
             [
              0.8888888888888888,
              "#fdca26"
             ],
             [
              1,
              "#f0f921"
             ]
            ],
            "type": "contour"
           }
          ],
          "contourcarpet": [
           {
            "colorbar": {
             "outlinewidth": 0,
             "ticks": ""
            },
            "type": "contourcarpet"
           }
          ],
          "heatmap": [
           {
            "colorbar": {
             "outlinewidth": 0,
             "ticks": ""
            },
            "colorscale": [
             [
              0,
              "#0d0887"
             ],
             [
              0.1111111111111111,
              "#46039f"
             ],
             [
              0.2222222222222222,
              "#7201a8"
             ],
             [
              0.3333333333333333,
              "#9c179e"
             ],
             [
              0.4444444444444444,
              "#bd3786"
             ],
             [
              0.5555555555555556,
              "#d8576b"
             ],
             [
              0.6666666666666666,
              "#ed7953"
             ],
             [
              0.7777777777777778,
              "#fb9f3a"
             ],
             [
              0.8888888888888888,
              "#fdca26"
             ],
             [
              1,
              "#f0f921"
             ]
            ],
            "type": "heatmap"
           }
          ],
          "histogram": [
           {
            "marker": {
             "pattern": {
              "fillmode": "overlay",
              "size": 10,
              "solidity": 0.2
             }
            },
            "type": "histogram"
           }
          ],
          "histogram2d": [
           {
            "colorbar": {
             "outlinewidth": 0,
             "ticks": ""
            },
            "colorscale": [
             [
              0,
              "#0d0887"
             ],
             [
              0.1111111111111111,
              "#46039f"
             ],
             [
              0.2222222222222222,
              "#7201a8"
             ],
             [
              0.3333333333333333,
              "#9c179e"
             ],
             [
              0.4444444444444444,
              "#bd3786"
             ],
             [
              0.5555555555555556,
              "#d8576b"
             ],
             [
              0.6666666666666666,
              "#ed7953"
             ],
             [
              0.7777777777777778,
              "#fb9f3a"
             ],
             [
              0.8888888888888888,
              "#fdca26"
             ],
             [
              1,
              "#f0f921"
             ]
            ],
            "type": "histogram2d"
           }
          ],
          "histogram2dcontour": [
           {
            "colorbar": {
             "outlinewidth": 0,
             "ticks": ""
            },
            "colorscale": [
             [
              0,
              "#0d0887"
             ],
             [
              0.1111111111111111,
              "#46039f"
             ],
             [
              0.2222222222222222,
              "#7201a8"
             ],
             [
              0.3333333333333333,
              "#9c179e"
             ],
             [
              0.4444444444444444,
              "#bd3786"
             ],
             [
              0.5555555555555556,
              "#d8576b"
             ],
             [
              0.6666666666666666,
              "#ed7953"
             ],
             [
              0.7777777777777778,
              "#fb9f3a"
             ],
             [
              0.8888888888888888,
              "#fdca26"
             ],
             [
              1,
              "#f0f921"
             ]
            ],
            "type": "histogram2dcontour"
           }
          ],
          "mesh3d": [
           {
            "colorbar": {
             "outlinewidth": 0,
             "ticks": ""
            },
            "type": "mesh3d"
           }
          ],
          "parcoords": [
           {
            "line": {
             "colorbar": {
              "outlinewidth": 0,
              "ticks": ""
             }
            },
            "type": "parcoords"
           }
          ],
          "pie": [
           {
            "automargin": true,
            "type": "pie"
           }
          ],
          "scatter": [
           {
            "fillpattern": {
             "fillmode": "overlay",
             "size": 10,
             "solidity": 0.2
            },
            "type": "scatter"
           }
          ],
          "scatter3d": [
           {
            "line": {
             "colorbar": {
              "outlinewidth": 0,
              "ticks": ""
             }
            },
            "marker": {
             "colorbar": {
              "outlinewidth": 0,
              "ticks": ""
             }
            },
            "type": "scatter3d"
           }
          ],
          "scattercarpet": [
           {
            "marker": {
             "colorbar": {
              "outlinewidth": 0,
              "ticks": ""
             }
            },
            "type": "scattercarpet"
           }
          ],
          "scattergeo": [
           {
            "marker": {
             "colorbar": {
              "outlinewidth": 0,
              "ticks": ""
             }
            },
            "type": "scattergeo"
           }
          ],
          "scattergl": [
           {
            "marker": {
             "colorbar": {
              "outlinewidth": 0,
              "ticks": ""
             }
            },
            "type": "scattergl"
           }
          ],
          "scattermap": [
           {
            "marker": {
             "colorbar": {
              "outlinewidth": 0,
              "ticks": ""
             }
            },
            "type": "scattermap"
           }
          ],
          "scattermapbox": [
           {
            "marker": {
             "colorbar": {
              "outlinewidth": 0,
              "ticks": ""
             }
            },
            "type": "scattermapbox"
           }
          ],
          "scatterpolar": [
           {
            "marker": {
             "colorbar": {
              "outlinewidth": 0,
              "ticks": ""
             }
            },
            "type": "scatterpolar"
           }
          ],
          "scatterpolargl": [
           {
            "marker": {
             "colorbar": {
              "outlinewidth": 0,
              "ticks": ""
             }
            },
            "type": "scatterpolargl"
           }
          ],
          "scatterternary": [
           {
            "marker": {
             "colorbar": {
              "outlinewidth": 0,
              "ticks": ""
             }
            },
            "type": "scatterternary"
           }
          ],
          "surface": [
           {
            "colorbar": {
             "outlinewidth": 0,
             "ticks": ""
            },
            "colorscale": [
             [
              0,
              "#0d0887"
             ],
             [
              0.1111111111111111,
              "#46039f"
             ],
             [
              0.2222222222222222,
              "#7201a8"
             ],
             [
              0.3333333333333333,
              "#9c179e"
             ],
             [
              0.4444444444444444,
              "#bd3786"
             ],
             [
              0.5555555555555556,
              "#d8576b"
             ],
             [
              0.6666666666666666,
              "#ed7953"
             ],
             [
              0.7777777777777778,
              "#fb9f3a"
             ],
             [
              0.8888888888888888,
              "#fdca26"
             ],
             [
              1,
              "#f0f921"
             ]
            ],
            "type": "surface"
           }
          ],
          "table": [
           {
            "cells": {
             "fill": {
              "color": "#EBF0F8"
             },
             "line": {
              "color": "white"
             }
            },
            "header": {
             "fill": {
              "color": "#C8D4E3"
             },
             "line": {
              "color": "white"
             }
            },
            "type": "table"
           }
          ]
         },
         "layout": {
          "annotationdefaults": {
           "arrowcolor": "#2a3f5f",
           "arrowhead": 0,
           "arrowwidth": 1
          },
          "autotypenumbers": "strict",
          "coloraxis": {
           "colorbar": {
            "outlinewidth": 0,
            "ticks": ""
           }
          },
          "colorscale": {
           "diverging": [
            [
             0,
             "#8e0152"
            ],
            [
             0.1,
             "#c51b7d"
            ],
            [
             0.2,
             "#de77ae"
            ],
            [
             0.3,
             "#f1b6da"
            ],
            [
             0.4,
             "#fde0ef"
            ],
            [
             0.5,
             "#f7f7f7"
            ],
            [
             0.6,
             "#e6f5d0"
            ],
            [
             0.7,
             "#b8e186"
            ],
            [
             0.8,
             "#7fbc41"
            ],
            [
             0.9,
             "#4d9221"
            ],
            [
             1,
             "#276419"
            ]
           ],
           "sequential": [
            [
             0,
             "#0d0887"
            ],
            [
             0.1111111111111111,
             "#46039f"
            ],
            [
             0.2222222222222222,
             "#7201a8"
            ],
            [
             0.3333333333333333,
             "#9c179e"
            ],
            [
             0.4444444444444444,
             "#bd3786"
            ],
            [
             0.5555555555555556,
             "#d8576b"
            ],
            [
             0.6666666666666666,
             "#ed7953"
            ],
            [
             0.7777777777777778,
             "#fb9f3a"
            ],
            [
             0.8888888888888888,
             "#fdca26"
            ],
            [
             1,
             "#f0f921"
            ]
           ],
           "sequentialminus": [
            [
             0,
             "#0d0887"
            ],
            [
             0.1111111111111111,
             "#46039f"
            ],
            [
             0.2222222222222222,
             "#7201a8"
            ],
            [
             0.3333333333333333,
             "#9c179e"
            ],
            [
             0.4444444444444444,
             "#bd3786"
            ],
            [
             0.5555555555555556,
             "#d8576b"
            ],
            [
             0.6666666666666666,
             "#ed7953"
            ],
            [
             0.7777777777777778,
             "#fb9f3a"
            ],
            [
             0.8888888888888888,
             "#fdca26"
            ],
            [
             1,
             "#f0f921"
            ]
           ]
          },
          "colorway": [
           "#636efa",
           "#EF553B",
           "#00cc96",
           "#ab63fa",
           "#FFA15A",
           "#19d3f3",
           "#FF6692",
           "#B6E880",
           "#FF97FF",
           "#FECB52"
          ],
          "font": {
           "color": "#2a3f5f"
          },
          "geo": {
           "bgcolor": "white",
           "lakecolor": "white",
           "landcolor": "#E5ECF6",
           "showlakes": true,
           "showland": true,
           "subunitcolor": "white"
          },
          "hoverlabel": {
           "align": "left"
          },
          "hovermode": "closest",
          "mapbox": {
           "style": "light"
          },
          "paper_bgcolor": "white",
          "plot_bgcolor": "#E5ECF6",
          "polar": {
           "angularaxis": {
            "gridcolor": "white",
            "linecolor": "white",
            "ticks": ""
           },
           "bgcolor": "#E5ECF6",
           "radialaxis": {
            "gridcolor": "white",
            "linecolor": "white",
            "ticks": ""
           }
          },
          "scene": {
           "xaxis": {
            "backgroundcolor": "#E5ECF6",
            "gridcolor": "white",
            "gridwidth": 2,
            "linecolor": "white",
            "showbackground": true,
            "ticks": "",
            "zerolinecolor": "white"
           },
           "yaxis": {
            "backgroundcolor": "#E5ECF6",
            "gridcolor": "white",
            "gridwidth": 2,
            "linecolor": "white",
            "showbackground": true,
            "ticks": "",
            "zerolinecolor": "white"
           },
           "zaxis": {
            "backgroundcolor": "#E5ECF6",
            "gridcolor": "white",
            "gridwidth": 2,
            "linecolor": "white",
            "showbackground": true,
            "ticks": "",
            "zerolinecolor": "white"
           }
          },
          "shapedefaults": {
           "line": {
            "color": "#2a3f5f"
           }
          },
          "ternary": {
           "aaxis": {
            "gridcolor": "white",
            "linecolor": "white",
            "ticks": ""
           },
           "baxis": {
            "gridcolor": "white",
            "linecolor": "white",
            "ticks": ""
           },
           "bgcolor": "#E5ECF6",
           "caxis": {
            "gridcolor": "white",
            "linecolor": "white",
            "ticks": ""
           }
          },
          "title": {
           "x": 0.05
          },
          "xaxis": {
           "automargin": true,
           "gridcolor": "white",
           "linecolor": "white",
           "ticks": "",
           "title": {
            "standoff": 15
           },
           "zerolinecolor": "white",
           "zerolinewidth": 2
          },
          "yaxis": {
           "automargin": true,
           "gridcolor": "white",
           "linecolor": "white",
           "ticks": "",
           "title": {
            "standoff": 15
           },
           "zerolinecolor": "white",
           "zerolinewidth": 2
          }
         }
        },
        "title": {
         "text": "Bubble Chart: Nota média vs Ano"
        },
        "xaxis": {
         "anchor": "y",
         "domain": [
          0,
          1
         ],
         "title": {
          "text": "Ano"
         }
        },
        "yaxis": {
         "anchor": "x",
         "domain": [
          0,
          1
         ],
         "title": {
          "text": "Nota média"
         }
        }
       }
      }
     },
     "metadata": {},
     "output_type": "display_data"
    },
    {
     "data": {
      "application/vnd.plotly.v1+json": {
       "config": {
        "plotlyServerURL": "https://plot.ly"
       },
       "data": [
        {
         "bingroup": "x",
         "hovertemplate": "Nota média=%{x}<br>count=%{y}<extra></extra>",
         "legendgroup": "",
         "marker": {
          "color": "#636efa",
          "pattern": {
           "shape": ""
          }
         },
         "name": "",
         "nbinsx": 20,
         "orientation": "v",
         "showlegend": false,
         "type": "histogram",
         "x": {
          "bdata": "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",
          "dtype": "f8"
         },
         "xaxis": "x",
         "yaxis": "y"
        }
       ],
       "layout": {
        "barmode": "relative",
        "legend": {
         "tracegroupgap": 0
        },
        "template": {
         "data": {
          "bar": [
           {
            "error_x": {
             "color": "#2a3f5f"
            },
            "error_y": {
             "color": "#2a3f5f"
            },
            "marker": {
             "line": {
              "color": "#E5ECF6",
              "width": 0.5
             },
             "pattern": {
              "fillmode": "overlay",
              "size": 10,
              "solidity": 0.2
             }
            },
            "type": "bar"
           }
          ],
          "barpolar": [
           {
            "marker": {
             "line": {
              "color": "#E5ECF6",
              "width": 0.5
             },
             "pattern": {
              "fillmode": "overlay",
              "size": 10,
              "solidity": 0.2
             }
            },
            "type": "barpolar"
           }
          ],
          "carpet": [
           {
            "aaxis": {
             "endlinecolor": "#2a3f5f",
             "gridcolor": "white",
             "linecolor": "white",
             "minorgridcolor": "white",
             "startlinecolor": "#2a3f5f"
            },
            "baxis": {
             "endlinecolor": "#2a3f5f",
             "gridcolor": "white",
             "linecolor": "white",
             "minorgridcolor": "white",
             "startlinecolor": "#2a3f5f"
            },
            "type": "carpet"
           }
          ],
          "choropleth": [
           {
            "colorbar": {
             "outlinewidth": 0,
             "ticks": ""
            },
            "type": "choropleth"
           }
          ],
          "contour": [
           {
            "colorbar": {
             "outlinewidth": 0,
             "ticks": ""
            },
            "colorscale": [
             [
              0,
              "#0d0887"
             ],
             [
              0.1111111111111111,
              "#46039f"
             ],
             [
              0.2222222222222222,
              "#7201a8"
             ],
             [
              0.3333333333333333,
              "#9c179e"
             ],
             [
              0.4444444444444444,
              "#bd3786"
             ],
             [
              0.5555555555555556,
              "#d8576b"
             ],
             [
              0.6666666666666666,
              "#ed7953"
             ],
             [
              0.7777777777777778,
              "#fb9f3a"
             ],
             [
              0.8888888888888888,
              "#fdca26"
             ],
             [
              1,
              "#f0f921"
             ]
            ],
            "type": "contour"
           }
          ],
          "contourcarpet": [
           {
            "colorbar": {
             "outlinewidth": 0,
             "ticks": ""
            },
            "type": "contourcarpet"
           }
          ],
          "heatmap": [
           {
            "colorbar": {
             "outlinewidth": 0,
             "ticks": ""
            },
            "colorscale": [
             [
              0,
              "#0d0887"
             ],
             [
              0.1111111111111111,
              "#46039f"
             ],
             [
              0.2222222222222222,
              "#7201a8"
             ],
             [
              0.3333333333333333,
              "#9c179e"
             ],
             [
              0.4444444444444444,
              "#bd3786"
             ],
             [
              0.5555555555555556,
              "#d8576b"
             ],
             [
              0.6666666666666666,
              "#ed7953"
             ],
             [
              0.7777777777777778,
              "#fb9f3a"
             ],
             [
              0.8888888888888888,
              "#fdca26"
             ],
             [
              1,
              "#f0f921"
             ]
            ],
            "type": "heatmap"
           }
          ],
          "histogram": [
           {
            "marker": {
             "pattern": {
              "fillmode": "overlay",
              "size": 10,
              "solidity": 0.2
             }
            },
            "type": "histogram"
           }
          ],
          "histogram2d": [
           {
            "colorbar": {
             "outlinewidth": 0,
             "ticks": ""
            },
            "colorscale": [
             [
              0,
              "#0d0887"
             ],
             [
              0.1111111111111111,
              "#46039f"
             ],
             [
              0.2222222222222222,
              "#7201a8"
             ],
             [
              0.3333333333333333,
              "#9c179e"
             ],
             [
              0.4444444444444444,
              "#bd3786"
             ],
             [
              0.5555555555555556,
              "#d8576b"
             ],
             [
              0.6666666666666666,
              "#ed7953"
             ],
             [
              0.7777777777777778,
              "#fb9f3a"
             ],
             [
              0.8888888888888888,
              "#fdca26"
             ],
             [
              1,
              "#f0f921"
             ]
            ],
            "type": "histogram2d"
           }
          ],
          "histogram2dcontour": [
           {
            "colorbar": {
             "outlinewidth": 0,
             "ticks": ""
            },
            "colorscale": [
             [
              0,
              "#0d0887"
             ],
             [
              0.1111111111111111,
              "#46039f"
             ],
             [
              0.2222222222222222,
              "#7201a8"
             ],
             [
              0.3333333333333333,
              "#9c179e"
             ],
             [
              0.4444444444444444,
              "#bd3786"
             ],
             [
              0.5555555555555556,
              "#d8576b"
             ],
             [
              0.6666666666666666,
              "#ed7953"
             ],
             [
              0.7777777777777778,
              "#fb9f3a"
             ],
             [
              0.8888888888888888,
              "#fdca26"
             ],
             [
              1,
              "#f0f921"
             ]
            ],
            "type": "histogram2dcontour"
           }
          ],
          "mesh3d": [
           {
            "colorbar": {
             "outlinewidth": 0,
             "ticks": ""
            },
            "type": "mesh3d"
           }
          ],
          "parcoords": [
           {
            "line": {
             "colorbar": {
              "outlinewidth": 0,
              "ticks": ""
             }
            },
            "type": "parcoords"
           }
          ],
          "pie": [
           {
            "automargin": true,
            "type": "pie"
           }
          ],
          "scatter": [
           {
            "fillpattern": {
             "fillmode": "overlay",
             "size": 10,
             "solidity": 0.2
            },
            "type": "scatter"
           }
          ],
          "scatter3d": [
           {
            "line": {
             "colorbar": {
              "outlinewidth": 0,
              "ticks": ""
             }
            },
            "marker": {
             "colorbar": {
              "outlinewidth": 0,
              "ticks": ""
             }
            },
            "type": "scatter3d"
           }
          ],
          "scattercarpet": [
           {
            "marker": {
             "colorbar": {
              "outlinewidth": 0,
              "ticks": ""
             }
            },
            "type": "scattercarpet"
           }
          ],
          "scattergeo": [
           {
            "marker": {
             "colorbar": {
              "outlinewidth": 0,
              "ticks": ""
             }
            },
            "type": "scattergeo"
           }
          ],
          "scattergl": [
           {
            "marker": {
             "colorbar": {
              "outlinewidth": 0,
              "ticks": ""
             }
            },
            "type": "scattergl"
           }
          ],
          "scattermap": [
           {
            "marker": {
             "colorbar": {
              "outlinewidth": 0,
              "ticks": ""
             }
            },
            "type": "scattermap"
           }
          ],
          "scattermapbox": [
           {
            "marker": {
             "colorbar": {
              "outlinewidth": 0,
              "ticks": ""
             }
            },
            "type": "scattermapbox"
           }
          ],
          "scatterpolar": [
           {
            "marker": {
             "colorbar": {
              "outlinewidth": 0,
              "ticks": ""
             }
            },
            "type": "scatterpolar"
           }
          ],
          "scatterpolargl": [
           {
            "marker": {
             "colorbar": {
              "outlinewidth": 0,
              "ticks": ""
             }
            },
            "type": "scatterpolargl"
           }
          ],
          "scatterternary": [
           {
            "marker": {
             "colorbar": {
              "outlinewidth": 0,
              "ticks": ""
             }
            },
            "type": "scatterternary"
           }
          ],
          "surface": [
           {
            "colorbar": {
             "outlinewidth": 0,
             "ticks": ""
            },
            "colorscale": [
             [
              0,
              "#0d0887"
             ],
             [
              0.1111111111111111,
              "#46039f"
             ],
             [
              0.2222222222222222,
              "#7201a8"
             ],
             [
              0.3333333333333333,
              "#9c179e"
             ],
             [
              0.4444444444444444,
              "#bd3786"
             ],
             [
              0.5555555555555556,
              "#d8576b"
             ],
             [
              0.6666666666666666,
              "#ed7953"
             ],
             [
              0.7777777777777778,
              "#fb9f3a"
             ],
             [
              0.8888888888888888,
              "#fdca26"
             ],
             [
              1,
              "#f0f921"
             ]
            ],
            "type": "surface"
           }
          ],
          "table": [
           {
            "cells": {
             "fill": {
              "color": "#EBF0F8"
             },
             "line": {
              "color": "white"
             }
            },
            "header": {
             "fill": {
              "color": "#C8D4E3"
             },
             "line": {
              "color": "white"
             }
            },
            "type": "table"
           }
          ]
         },
         "layout": {
          "annotationdefaults": {
           "arrowcolor": "#2a3f5f",
           "arrowhead": 0,
           "arrowwidth": 1
          },
          "autotypenumbers": "strict",
          "coloraxis": {
           "colorbar": {
            "outlinewidth": 0,
            "ticks": ""
           }
          },
          "colorscale": {
           "diverging": [
            [
             0,
             "#8e0152"
            ],
            [
             0.1,
             "#c51b7d"
            ],
            [
             0.2,
             "#de77ae"
            ],
            [
             0.3,
             "#f1b6da"
            ],
            [
             0.4,
             "#fde0ef"
            ],
            [
             0.5,
             "#f7f7f7"
            ],
            [
             0.6,
             "#e6f5d0"
            ],
            [
             0.7,
             "#b8e186"
            ],
            [
             0.8,
             "#7fbc41"
            ],
            [
             0.9,
             "#4d9221"
            ],
            [
             1,
             "#276419"
            ]
           ],
           "sequential": [
            [
             0,
             "#0d0887"
            ],
            [
             0.1111111111111111,
             "#46039f"
            ],
            [
             0.2222222222222222,
             "#7201a8"
            ],
            [
             0.3333333333333333,
             "#9c179e"
            ],
            [
             0.4444444444444444,
             "#bd3786"
            ],
            [
             0.5555555555555556,
             "#d8576b"
            ],
            [
             0.6666666666666666,
             "#ed7953"
            ],
            [
             0.7777777777777778,
             "#fb9f3a"
            ],
            [
             0.8888888888888888,
             "#fdca26"
            ],
            [
             1,
             "#f0f921"
            ]
           ],
           "sequentialminus": [
            [
             0,
             "#0d0887"
            ],
            [
             0.1111111111111111,
             "#46039f"
            ],
            [
             0.2222222222222222,
             "#7201a8"
            ],
            [
             0.3333333333333333,
             "#9c179e"
            ],
            [
             0.4444444444444444,
             "#bd3786"
            ],
            [
             0.5555555555555556,
             "#d8576b"
            ],
            [
             0.6666666666666666,
             "#ed7953"
            ],
            [
             0.7777777777777778,
             "#fb9f3a"
            ],
            [
             0.8888888888888888,
             "#fdca26"
            ],
            [
             1,
             "#f0f921"
            ]
           ]
          },
          "colorway": [
           "#636efa",
           "#EF553B",
           "#00cc96",
           "#ab63fa",
           "#FFA15A",
           "#19d3f3",
           "#FF6692",
           "#B6E880",
           "#FF97FF",
           "#FECB52"
          ],
          "font": {
           "color": "#2a3f5f"
          },
          "geo": {
           "bgcolor": "white",
           "lakecolor": "white",
           "landcolor": "#E5ECF6",
           "showlakes": true,
           "showland": true,
           "subunitcolor": "white"
          },
          "hoverlabel": {
           "align": "left"
          },
          "hovermode": "closest",
          "mapbox": {
           "style": "light"
          },
          "paper_bgcolor": "white",
          "plot_bgcolor": "#E5ECF6",
          "polar": {
           "angularaxis": {
            "gridcolor": "white",
            "linecolor": "white",
            "ticks": ""
           },
           "bgcolor": "#E5ECF6",
           "radialaxis": {
            "gridcolor": "white",
            "linecolor": "white",
            "ticks": ""
           }
          },
          "scene": {
           "xaxis": {
            "backgroundcolor": "#E5ECF6",
            "gridcolor": "white",
            "gridwidth": 2,
            "linecolor": "white",
            "showbackground": true,
            "ticks": "",
            "zerolinecolor": "white"
           },
           "yaxis": {
            "backgroundcolor": "#E5ECF6",
            "gridcolor": "white",
            "gridwidth": 2,
            "linecolor": "white",
            "showbackground": true,
            "ticks": "",
            "zerolinecolor": "white"
           },
           "zaxis": {
            "backgroundcolor": "#E5ECF6",
            "gridcolor": "white",
            "gridwidth": 2,
            "linecolor": "white",
            "showbackground": true,
            "ticks": "",
            "zerolinecolor": "white"
           }
          },
          "shapedefaults": {
           "line": {
            "color": "#2a3f5f"
           }
          },
          "ternary": {
           "aaxis": {
            "gridcolor": "white",
            "linecolor": "white",
            "ticks": ""
           },
           "baxis": {
            "gridcolor": "white",
            "linecolor": "white",
            "ticks": ""
           },
           "bgcolor": "#E5ECF6",
           "caxis": {
            "gridcolor": "white",
            "linecolor": "white",
            "ticks": ""
           }
          },
          "title": {
           "x": 0.05
          },
          "xaxis": {
           "automargin": true,
           "gridcolor": "white",
           "linecolor": "white",
           "ticks": "",
           "title": {
            "standoff": 15
           },
           "zerolinecolor": "white",
           "zerolinewidth": 2
          },
          "yaxis": {
           "automargin": true,
           "gridcolor": "white",
           "linecolor": "white",
           "ticks": "",
           "title": {
            "standoff": 15
           },
           "zerolinecolor": "white",
           "zerolinewidth": 2
          }
         }
        },
        "title": {
         "text": "Distribuição das notas médias"
        },
        "xaxis": {
         "anchor": "y",
         "domain": [
          0,
          1
         ],
         "title": {
          "text": "Nota média"
         }
        },
        "yaxis": {
         "anchor": "x",
         "domain": [
          0,
          1
         ],
         "title": {
          "text": "count"
         }
        }
       }
      }
     },
     "metadata": {},
     "output_type": "display_data"
    },
    {
     "data": {
      "application/vnd.plotly.v1+json": {
       "config": {
        "plotlyServerURL": "https://plot.ly"
       },
       "data": [
        {
         "alignmentgroup": "True",
         "hovertemplate": "Ano=%{x}<br>Nota média=%{y}<extra></extra>",
         "legendgroup": "",
         "marker": {
          "color": "#636efa"
         },
         "name": "",
         "notched": false,
         "offsetgroup": "",
         "orientation": "v",
         "showlegend": false,
         "type": "box",
         "x": {
          "bdata": "pQewB6cHygeSB7QHvAfEB7sHwgeeB88HuAfQB8AH0QfcB58HuQeoB7sH4wfBB7UHxwfPB7sHmgfSB5wHzgfhB94H0QenB+IHvge2B80HzwfHB8EHpwfbB6UH0QfDB9UHsQe0B38H4QffB5YH1gfWB7YH0gfEB5UHiwfKB7MHywfhB+IH3wfQB9gHugefB8kHxQfEB8UHrQe3B7UHmAesB4sH2wfKB40HvgexB8YHzwe8B7UH1AfDB7UH4wfMB9sHvgfPB9kHpAfKB4sHswfSB70HvgfNB4YH4QfLB8AH4Qe0B7YHogesB68HxgfeB5EHlAe6B6sHyQfeB8QHugesB7MH1AfiB8sHxQfRB9IHoAeUB9wHoAevB9AH2gfZB98HzwfYB44Hmge3B94HyQeNB80HqAfDB6gH4QeVB6oH2AfDB8gHygfFB8IH4QfRB9MH0gfTB9AH3wfIB5UHqgfPB9QHhweQB9EHtwfgB9EHxQfEB8kHxAe3B7oHuAejB7AHwAfXB6cHzwfTB6IHtwfHB5kH1geJB+MHiAejB5QHyQeUB9wHyAevB+MHwgfDB80HqAfKB+IHvAe9B54HogecB8AH0AfDB7gHoQewB5MH1AfOB8UHvwfJB8wH1AekB94HyweiB6UHswfUB8oHvAfiB9EHxwegB88H2AeRB7QHpwetB+IH0Qe5B7wH3weeB9cHuge5B90H3we4B8AHxwfHB9cHvgedB8AHzQeWB6oHoQe+B8YHywfMB5wHrAfjB8gHpgfWB9gHqQfJB7EHpQeTB+EH0QfbB9wH",
          "dtype": "i2"
         },
         "x0": " ",
         "xaxis": "x",
         "y": {
          "bdata": "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",
          "dtype": "f8"
         },
         "y0": " ",
         "yaxis": "y"
        }
       ],
       "layout": {
        "boxmode": "group",
        "legend": {
         "tracegroupgap": 0
        },
        "template": {
         "data": {
          "bar": [
           {
            "error_x": {
             "color": "#2a3f5f"
            },
            "error_y": {
             "color": "#2a3f5f"
            },
            "marker": {
             "line": {
              "color": "#E5ECF6",
              "width": 0.5
             },
             "pattern": {
              "fillmode": "overlay",
              "size": 10,
              "solidity": 0.2
             }
            },
            "type": "bar"
           }
          ],
          "barpolar": [
           {
            "marker": {
             "line": {
              "color": "#E5ECF6",
              "width": 0.5
             },
             "pattern": {
              "fillmode": "overlay",
              "size": 10,
              "solidity": 0.2
             }
            },
            "type": "barpolar"
           }
          ],
          "carpet": [
           {
            "aaxis": {
             "endlinecolor": "#2a3f5f",
             "gridcolor": "white",
             "linecolor": "white",
             "minorgridcolor": "white",
             "startlinecolor": "#2a3f5f"
            },
            "baxis": {
             "endlinecolor": "#2a3f5f",
             "gridcolor": "white",
             "linecolor": "white",
             "minorgridcolor": "white",
             "startlinecolor": "#2a3f5f"
            },
            "type": "carpet"
           }
          ],
          "choropleth": [
           {
            "colorbar": {
             "outlinewidth": 0,
             "ticks": ""
            },
            "type": "choropleth"
           }
          ],
          "contour": [
           {
            "colorbar": {
             "outlinewidth": 0,
             "ticks": ""
            },
            "colorscale": [
             [
              0,
              "#0d0887"
             ],
             [
              0.1111111111111111,
              "#46039f"
             ],
             [
              0.2222222222222222,
              "#7201a8"
             ],
             [
              0.3333333333333333,
              "#9c179e"
             ],
             [
              0.4444444444444444,
              "#bd3786"
             ],
             [
              0.5555555555555556,
              "#d8576b"
             ],
             [
              0.6666666666666666,
              "#ed7953"
             ],
             [
              0.7777777777777778,
              "#fb9f3a"
             ],
             [
              0.8888888888888888,
              "#fdca26"
             ],
             [
              1,
              "#f0f921"
             ]
            ],
            "type": "contour"
           }
          ],
          "contourcarpet": [
           {
            "colorbar": {
             "outlinewidth": 0,
             "ticks": ""
            },
            "type": "contourcarpet"
           }
          ],
          "heatmap": [
           {
            "colorbar": {
             "outlinewidth": 0,
             "ticks": ""
            },
            "colorscale": [
             [
              0,
              "#0d0887"
             ],
             [
              0.1111111111111111,
              "#46039f"
             ],
             [
              0.2222222222222222,
              "#7201a8"
             ],
             [
              0.3333333333333333,
              "#9c179e"
             ],
             [
              0.4444444444444444,
              "#bd3786"
             ],
             [
              0.5555555555555556,
              "#d8576b"
             ],
             [
              0.6666666666666666,
              "#ed7953"
             ],
             [
              0.7777777777777778,
              "#fb9f3a"
             ],
             [
              0.8888888888888888,
              "#fdca26"
             ],
             [
              1,
              "#f0f921"
             ]
            ],
            "type": "heatmap"
           }
          ],
          "histogram": [
           {
            "marker": {
             "pattern": {
              "fillmode": "overlay",
              "size": 10,
              "solidity": 0.2
             }
            },
            "type": "histogram"
           }
          ],
          "histogram2d": [
           {
            "colorbar": {
             "outlinewidth": 0,
             "ticks": ""
            },
            "colorscale": [
             [
              0,
              "#0d0887"
             ],
             [
              0.1111111111111111,
              "#46039f"
             ],
             [
              0.2222222222222222,
              "#7201a8"
             ],
             [
              0.3333333333333333,
              "#9c179e"
             ],
             [
              0.4444444444444444,
              "#bd3786"
             ],
             [
              0.5555555555555556,
              "#d8576b"
             ],
             [
              0.6666666666666666,
              "#ed7953"
             ],
             [
              0.7777777777777778,
              "#fb9f3a"
             ],
             [
              0.8888888888888888,
              "#fdca26"
             ],
             [
              1,
              "#f0f921"
             ]
            ],
            "type": "histogram2d"
           }
          ],
          "histogram2dcontour": [
           {
            "colorbar": {
             "outlinewidth": 0,
             "ticks": ""
            },
            "colorscale": [
             [
              0,
              "#0d0887"
             ],
             [
              0.1111111111111111,
              "#46039f"
             ],
             [
              0.2222222222222222,
              "#7201a8"
             ],
             [
              0.3333333333333333,
              "#9c179e"
             ],
             [
              0.4444444444444444,
              "#bd3786"
             ],
             [
              0.5555555555555556,
              "#d8576b"
             ],
             [
              0.6666666666666666,
              "#ed7953"
             ],
             [
              0.7777777777777778,
              "#fb9f3a"
             ],
             [
              0.8888888888888888,
              "#fdca26"
             ],
             [
              1,
              "#f0f921"
             ]
            ],
            "type": "histogram2dcontour"
           }
          ],
          "mesh3d": [
           {
            "colorbar": {
             "outlinewidth": 0,
             "ticks": ""
            },
            "type": "mesh3d"
           }
          ],
          "parcoords": [
           {
            "line": {
             "colorbar": {
              "outlinewidth": 0,
              "ticks": ""
             }
            },
            "type": "parcoords"
           }
          ],
          "pie": [
           {
            "automargin": true,
            "type": "pie"
           }
          ],
          "scatter": [
           {
            "fillpattern": {
             "fillmode": "overlay",
             "size": 10,
             "solidity": 0.2
            },
            "type": "scatter"
           }
          ],
          "scatter3d": [
           {
            "line": {
             "colorbar": {
              "outlinewidth": 0,
              "ticks": ""
             }
            },
            "marker": {
             "colorbar": {
              "outlinewidth": 0,
              "ticks": ""
             }
            },
            "type": "scatter3d"
           }
          ],
          "scattercarpet": [
           {
            "marker": {
             "colorbar": {
              "outlinewidth": 0,
              "ticks": ""
             }
            },
            "type": "scattercarpet"
           }
          ],
          "scattergeo": [
           {
            "marker": {
             "colorbar": {
              "outlinewidth": 0,
              "ticks": ""
             }
            },
            "type": "scattergeo"
           }
          ],
          "scattergl": [
           {
            "marker": {
             "colorbar": {
              "outlinewidth": 0,
              "ticks": ""
             }
            },
            "type": "scattergl"
           }
          ],
          "scattermap": [
           {
            "marker": {
             "colorbar": {
              "outlinewidth": 0,
              "ticks": ""
             }
            },
            "type": "scattermap"
           }
          ],
          "scattermapbox": [
           {
            "marker": {
             "colorbar": {
              "outlinewidth": 0,
              "ticks": ""
             }
            },
            "type": "scattermapbox"
           }
          ],
          "scatterpolar": [
           {
            "marker": {
             "colorbar": {
              "outlinewidth": 0,
              "ticks": ""
             }
            },
            "type": "scatterpolar"
           }
          ],
          "scatterpolargl": [
           {
            "marker": {
             "colorbar": {
              "outlinewidth": 0,
              "ticks": ""
             }
            },
            "type": "scatterpolargl"
           }
          ],
          "scatterternary": [
           {
            "marker": {
             "colorbar": {
              "outlinewidth": 0,
              "ticks": ""
             }
            },
            "type": "scatterternary"
           }
          ],
          "surface": [
           {
            "colorbar": {
             "outlinewidth": 0,
             "ticks": ""
            },
            "colorscale": [
             [
              0,
              "#0d0887"
             ],
             [
              0.1111111111111111,
              "#46039f"
             ],
             [
              0.2222222222222222,
              "#7201a8"
             ],
             [
              0.3333333333333333,
              "#9c179e"
             ],
             [
              0.4444444444444444,
              "#bd3786"
             ],
             [
              0.5555555555555556,
              "#d8576b"
             ],
             [
              0.6666666666666666,
              "#ed7953"
             ],
             [
              0.7777777777777778,
              "#fb9f3a"
             ],
             [
              0.8888888888888888,
              "#fdca26"
             ],
             [
              1,
              "#f0f921"
             ]
            ],
            "type": "surface"
           }
          ],
          "table": [
           {
            "cells": {
             "fill": {
              "color": "#EBF0F8"
             },
             "line": {
              "color": "white"
             }
            },
            "header": {
             "fill": {
              "color": "#C8D4E3"
             },
             "line": {
              "color": "white"
             }
            },
            "type": "table"
           }
          ]
         },
         "layout": {
          "annotationdefaults": {
           "arrowcolor": "#2a3f5f",
           "arrowhead": 0,
           "arrowwidth": 1
          },
          "autotypenumbers": "strict",
          "coloraxis": {
           "colorbar": {
            "outlinewidth": 0,
            "ticks": ""
           }
          },
          "colorscale": {
           "diverging": [
            [
             0,
             "#8e0152"
            ],
            [
             0.1,
             "#c51b7d"
            ],
            [
             0.2,
             "#de77ae"
            ],
            [
             0.3,
             "#f1b6da"
            ],
            [
             0.4,
             "#fde0ef"
            ],
            [
             0.5,
             "#f7f7f7"
            ],
            [
             0.6,
             "#e6f5d0"
            ],
            [
             0.7,
             "#b8e186"
            ],
            [
             0.8,
             "#7fbc41"
            ],
            [
             0.9,
             "#4d9221"
            ],
            [
             1,
             "#276419"
            ]
           ],
           "sequential": [
            [
             0,
             "#0d0887"
            ],
            [
             0.1111111111111111,
             "#46039f"
            ],
            [
             0.2222222222222222,
             "#7201a8"
            ],
            [
             0.3333333333333333,
             "#9c179e"
            ],
            [
             0.4444444444444444,
             "#bd3786"
            ],
            [
             0.5555555555555556,
             "#d8576b"
            ],
            [
             0.6666666666666666,
             "#ed7953"
            ],
            [
             0.7777777777777778,
             "#fb9f3a"
            ],
            [
             0.8888888888888888,
             "#fdca26"
            ],
            [
             1,
             "#f0f921"
            ]
           ],
           "sequentialminus": [
            [
             0,
             "#0d0887"
            ],
            [
             0.1111111111111111,
             "#46039f"
            ],
            [
             0.2222222222222222,
             "#7201a8"
            ],
            [
             0.3333333333333333,
             "#9c179e"
            ],
            [
             0.4444444444444444,
             "#bd3786"
            ],
            [
             0.5555555555555556,
             "#d8576b"
            ],
            [
             0.6666666666666666,
             "#ed7953"
            ],
            [
             0.7777777777777778,
             "#fb9f3a"
            ],
            [
             0.8888888888888888,
             "#fdca26"
            ],
            [
             1,
             "#f0f921"
            ]
           ]
          },
          "colorway": [
           "#636efa",
           "#EF553B",
           "#00cc96",
           "#ab63fa",
           "#FFA15A",
           "#19d3f3",
           "#FF6692",
           "#B6E880",
           "#FF97FF",
           "#FECB52"
          ],
          "font": {
           "color": "#2a3f5f"
          },
          "geo": {
           "bgcolor": "white",
           "lakecolor": "white",
           "landcolor": "#E5ECF6",
           "showlakes": true,
           "showland": true,
           "subunitcolor": "white"
          },
          "hoverlabel": {
           "align": "left"
          },
          "hovermode": "closest",
          "mapbox": {
           "style": "light"
          },
          "paper_bgcolor": "white",
          "plot_bgcolor": "#E5ECF6",
          "polar": {
           "angularaxis": {
            "gridcolor": "white",
            "linecolor": "white",
            "ticks": ""
           },
           "bgcolor": "#E5ECF6",
           "radialaxis": {
            "gridcolor": "white",
            "linecolor": "white",
            "ticks": ""
           }
          },
          "scene": {
           "xaxis": {
            "backgroundcolor": "#E5ECF6",
            "gridcolor": "white",
            "gridwidth": 2,
            "linecolor": "white",
            "showbackground": true,
            "ticks": "",
            "zerolinecolor": "white"
           },
           "yaxis": {
            "backgroundcolor": "#E5ECF6",
            "gridcolor": "white",
            "gridwidth": 2,
            "linecolor": "white",
            "showbackground": true,
            "ticks": "",
            "zerolinecolor": "white"
           },
           "zaxis": {
            "backgroundcolor": "#E5ECF6",
            "gridcolor": "white",
            "gridwidth": 2,
            "linecolor": "white",
            "showbackground": true,
            "ticks": "",
            "zerolinecolor": "white"
           }
          },
          "shapedefaults": {
           "line": {
            "color": "#2a3f5f"
           }
          },
          "ternary": {
           "aaxis": {
            "gridcolor": "white",
            "linecolor": "white",
            "ticks": ""
           },
           "baxis": {
            "gridcolor": "white",
            "linecolor": "white",
            "ticks": ""
           },
           "bgcolor": "#E5ECF6",
           "caxis": {
            "gridcolor": "white",
            "linecolor": "white",
            "ticks": ""
           }
          },
          "title": {
           "x": 0.05
          },
          "xaxis": {
           "automargin": true,
           "gridcolor": "white",
           "linecolor": "white",
           "ticks": "",
           "title": {
            "standoff": 15
           },
           "zerolinecolor": "white",
           "zerolinewidth": 2
          },
          "yaxis": {
           "automargin": true,
           "gridcolor": "white",
           "linecolor": "white",
           "ticks": "",
           "title": {
            "standoff": 15
           },
           "zerolinecolor": "white",
           "zerolinewidth": 2
          }
         }
        },
        "title": {
         "text": "Variação das notas médias por ano"
        },
        "xaxis": {
         "anchor": "y",
         "domain": [
          0,
          1
         ],
         "title": {
          "text": "Ano"
         }
        },
        "yaxis": {
         "anchor": "x",
         "domain": [
          0,
          1
         ],
         "title": {
          "text": "Nota média"
         }
        }
       }
      }
     },
     "metadata": {},
     "output_type": "display_data"
    },
    {
     "data": {
      "application/vnd.plotly.v1+json": {
       "config": {
        "plotlyServerURL": "https://plot.ly"
       },
       "data": [
        {
         "hovertemplate": "Nota média=%{x}<br>Filme=%{y}<extra></extra>",
         "legendgroup": "",
         "marker": {
          "color": "#636efa",
          "pattern": {
           "shape": ""
          }
         },
         "name": "",
         "orientation": "h",
         "showlegend": false,
         "textposition": "auto",
         "type": "bar",
         "x": {
          "bdata": "AAAAAACgWEAAAAAAAKBYQAAAAAAAYFhAAAAAAABgWEAAAAAAAGBYQAAAAAAAYFhAAAAAAABAWEAAAAAAAEBYQAAAAAAAQFhAAAAAAAAgWEAAAAAAACBYQAAAAAAAIFhAAAAAAAAgWEAAAAAAACBYQAAAAAAAIFhAAAAAAAAgWEAAAAAAACBYQAAAAAAAIFhAAAAAAAAgWEAAAAAAAABYQA==",
          "dtype": "f8"
         },
         "xaxis": "x",
         "y": [
          "12 homens irritados",
          "Sete Samurais",
          "Grande Ilusão",
          "Ikiru",
          "Lista de Schindler",
          "Cantando na Chuva",
          "Casablanca",
          "O Bom, o Mau e o Feio",
          "À beira-mar",
          "Os 400 golpes",
          "Tudo sobre Eva",
          "Ladrões de bicicletas",
          "O Poderoso Chefão, Parte II",
          "Confidencial de Los Angeles",
          "Tempos Modernos",
          "A história da Filadélfia",
          "Janela traseira",
          "O Terceiro Homem",
          "O Tesouro da Sierra Madre",
          "Aguirre: A Ira de Deus"
         ],
         "yaxis": "y"
        }
       ],
       "layout": {
        "barmode": "relative",
        "legend": {
         "tracegroupgap": 0
        },
        "template": {
         "data": {
          "bar": [
           {
            "error_x": {
             "color": "#2a3f5f"
            },
            "error_y": {
             "color": "#2a3f5f"
            },
            "marker": {
             "line": {
              "color": "#E5ECF6",
              "width": 0.5
             },
             "pattern": {
              "fillmode": "overlay",
              "size": 10,
              "solidity": 0.2
             }
            },
            "type": "bar"
           }
          ],
          "barpolar": [
           {
            "marker": {
             "line": {
              "color": "#E5ECF6",
              "width": 0.5
             },
             "pattern": {
              "fillmode": "overlay",
              "size": 10,
              "solidity": 0.2
             }
            },
            "type": "barpolar"
           }
          ],
          "carpet": [
           {
            "aaxis": {
             "endlinecolor": "#2a3f5f",
             "gridcolor": "white",
             "linecolor": "white",
             "minorgridcolor": "white",
             "startlinecolor": "#2a3f5f"
            },
            "baxis": {
             "endlinecolor": "#2a3f5f",
             "gridcolor": "white",
             "linecolor": "white",
             "minorgridcolor": "white",
             "startlinecolor": "#2a3f5f"
            },
            "type": "carpet"
           }
          ],
          "choropleth": [
           {
            "colorbar": {
             "outlinewidth": 0,
             "ticks": ""
            },
            "type": "choropleth"
           }
          ],
          "contour": [
           {
            "colorbar": {
             "outlinewidth": 0,
             "ticks": ""
            },
            "colorscale": [
             [
              0,
              "#0d0887"
             ],
             [
              0.1111111111111111,
              "#46039f"
             ],
             [
              0.2222222222222222,
              "#7201a8"
             ],
             [
              0.3333333333333333,
              "#9c179e"
             ],
             [
              0.4444444444444444,
              "#bd3786"
             ],
             [
              0.5555555555555556,
              "#d8576b"
             ],
             [
              0.6666666666666666,
              "#ed7953"
             ],
             [
              0.7777777777777778,
              "#fb9f3a"
             ],
             [
              0.8888888888888888,
              "#fdca26"
             ],
             [
              1,
              "#f0f921"
             ]
            ],
            "type": "contour"
           }
          ],
          "contourcarpet": [
           {
            "colorbar": {
             "outlinewidth": 0,
             "ticks": ""
            },
            "type": "contourcarpet"
           }
          ],
          "heatmap": [
           {
            "colorbar": {
             "outlinewidth": 0,
             "ticks": ""
            },
            "colorscale": [
             [
              0,
              "#0d0887"
             ],
             [
              0.1111111111111111,
              "#46039f"
             ],
             [
              0.2222222222222222,
              "#7201a8"
             ],
             [
              0.3333333333333333,
              "#9c179e"
             ],
             [
              0.4444444444444444,
              "#bd3786"
             ],
             [
              0.5555555555555556,
              "#d8576b"
             ],
             [
              0.6666666666666666,
              "#ed7953"
             ],
             [
              0.7777777777777778,
              "#fb9f3a"
             ],
             [
              0.8888888888888888,
              "#fdca26"
             ],
             [
              1,
              "#f0f921"
             ]
            ],
            "type": "heatmap"
           }
          ],
          "histogram": [
           {
            "marker": {
             "pattern": {
              "fillmode": "overlay",
              "size": 10,
              "solidity": 0.2
             }
            },
            "type": "histogram"
           }
          ],
          "histogram2d": [
           {
            "colorbar": {
             "outlinewidth": 0,
             "ticks": ""
            },
            "colorscale": [
             [
              0,
              "#0d0887"
             ],
             [
              0.1111111111111111,
              "#46039f"
             ],
             [
              0.2222222222222222,
              "#7201a8"
             ],
             [
              0.3333333333333333,
              "#9c179e"
             ],
             [
              0.4444444444444444,
              "#bd3786"
             ],
             [
              0.5555555555555556,
              "#d8576b"
             ],
             [
              0.6666666666666666,
              "#ed7953"
             ],
             [
              0.7777777777777778,
              "#fb9f3a"
             ],
             [
              0.8888888888888888,
              "#fdca26"
             ],
             [
              1,
              "#f0f921"
             ]
            ],
            "type": "histogram2d"
           }
          ],
          "histogram2dcontour": [
           {
            "colorbar": {
             "outlinewidth": 0,
             "ticks": ""
            },
            "colorscale": [
             [
              0,
              "#0d0887"
             ],
             [
              0.1111111111111111,
              "#46039f"
             ],
             [
              0.2222222222222222,
              "#7201a8"
             ],
             [
              0.3333333333333333,
              "#9c179e"
             ],
             [
              0.4444444444444444,
              "#bd3786"
             ],
             [
              0.5555555555555556,
              "#d8576b"
             ],
             [
              0.6666666666666666,
              "#ed7953"
             ],
             [
              0.7777777777777778,
              "#fb9f3a"
             ],
             [
              0.8888888888888888,
              "#fdca26"
             ],
             [
              1,
              "#f0f921"
             ]
            ],
            "type": "histogram2dcontour"
           }
          ],
          "mesh3d": [
           {
            "colorbar": {
             "outlinewidth": 0,
             "ticks": ""
            },
            "type": "mesh3d"
           }
          ],
          "parcoords": [
           {
            "line": {
             "colorbar": {
              "outlinewidth": 0,
              "ticks": ""
             }
            },
            "type": "parcoords"
           }
          ],
          "pie": [
           {
            "automargin": true,
            "type": "pie"
           }
          ],
          "scatter": [
           {
            "fillpattern": {
             "fillmode": "overlay",
             "size": 10,
             "solidity": 0.2
            },
            "type": "scatter"
           }
          ],
          "scatter3d": [
           {
            "line": {
             "colorbar": {
              "outlinewidth": 0,
              "ticks": ""
             }
            },
            "marker": {
             "colorbar": {
              "outlinewidth": 0,
              "ticks": ""
             }
            },
            "type": "scatter3d"
           }
          ],
          "scattercarpet": [
           {
            "marker": {
             "colorbar": {
              "outlinewidth": 0,
              "ticks": ""
             }
            },
            "type": "scattercarpet"
           }
          ],
          "scattergeo": [
           {
            "marker": {
             "colorbar": {
              "outlinewidth": 0,
              "ticks": ""
             }
            },
            "type": "scattergeo"
           }
          ],
          "scattergl": [
           {
            "marker": {
             "colorbar": {
              "outlinewidth": 0,
              "ticks": ""
             }
            },
            "type": "scattergl"
           }
          ],
          "scattermap": [
           {
            "marker": {
             "colorbar": {
              "outlinewidth": 0,
              "ticks": ""
             }
            },
            "type": "scattermap"
           }
          ],
          "scattermapbox": [
           {
            "marker": {
             "colorbar": {
              "outlinewidth": 0,
              "ticks": ""
             }
            },
            "type": "scattermapbox"
           }
          ],
          "scatterpolar": [
           {
            "marker": {
             "colorbar": {
              "outlinewidth": 0,
              "ticks": ""
             }
            },
            "type": "scatterpolar"
           }
          ],
          "scatterpolargl": [
           {
            "marker": {
             "colorbar": {
              "outlinewidth": 0,
              "ticks": ""
             }
            },
            "type": "scatterpolargl"
           }
          ],
          "scatterternary": [
           {
            "marker": {
             "colorbar": {
              "outlinewidth": 0,
              "ticks": ""
             }
            },
            "type": "scatterternary"
           }
          ],
          "surface": [
           {
            "colorbar": {
             "outlinewidth": 0,
             "ticks": ""
            },
            "colorscale": [
             [
              0,
              "#0d0887"
             ],
             [
              0.1111111111111111,
              "#46039f"
             ],
             [
              0.2222222222222222,
              "#7201a8"
             ],
             [
              0.3333333333333333,
              "#9c179e"
             ],
             [
              0.4444444444444444,
              "#bd3786"
             ],
             [
              0.5555555555555556,
              "#d8576b"
             ],
             [
              0.6666666666666666,
              "#ed7953"
             ],
             [
              0.7777777777777778,
              "#fb9f3a"
             ],
             [
              0.8888888888888888,
              "#fdca26"
             ],
             [
              1,
              "#f0f921"
             ]
            ],
            "type": "surface"
           }
          ],
          "table": [
           {
            "cells": {
             "fill": {
              "color": "#EBF0F8"
             },
             "line": {
              "color": "white"
             }
            },
            "header": {
             "fill": {
              "color": "#C8D4E3"
             },
             "line": {
              "color": "white"
             }
            },
            "type": "table"
           }
          ]
         },
         "layout": {
          "annotationdefaults": {
           "arrowcolor": "#2a3f5f",
           "arrowhead": 0,
           "arrowwidth": 1
          },
          "autotypenumbers": "strict",
          "coloraxis": {
           "colorbar": {
            "outlinewidth": 0,
            "ticks": ""
           }
          },
          "colorscale": {
           "diverging": [
            [
             0,
             "#8e0152"
            ],
            [
             0.1,
             "#c51b7d"
            ],
            [
             0.2,
             "#de77ae"
            ],
            [
             0.3,
             "#f1b6da"
            ],
            [
             0.4,
             "#fde0ef"
            ],
            [
             0.5,
             "#f7f7f7"
            ],
            [
             0.6,
             "#e6f5d0"
            ],
            [
             0.7,
             "#b8e186"
            ],
            [
             0.8,
             "#7fbc41"
            ],
            [
             0.9,
             "#4d9221"
            ],
            [
             1,
             "#276419"
            ]
           ],
           "sequential": [
            [
             0,
             "#0d0887"
            ],
            [
             0.1111111111111111,
             "#46039f"
            ],
            [
             0.2222222222222222,
             "#7201a8"
            ],
            [
             0.3333333333333333,
             "#9c179e"
            ],
            [
             0.4444444444444444,
             "#bd3786"
            ],
            [
             0.5555555555555556,
             "#d8576b"
            ],
            [
             0.6666666666666666,
             "#ed7953"
            ],
            [
             0.7777777777777778,
             "#fb9f3a"
            ],
            [
             0.8888888888888888,
             "#fdca26"
            ],
            [
             1,
             "#f0f921"
            ]
           ],
           "sequentialminus": [
            [
             0,
             "#0d0887"
            ],
            [
             0.1111111111111111,
             "#46039f"
            ],
            [
             0.2222222222222222,
             "#7201a8"
            ],
            [
             0.3333333333333333,
             "#9c179e"
            ],
            [
             0.4444444444444444,
             "#bd3786"
            ],
            [
             0.5555555555555556,
             "#d8576b"
            ],
            [
             0.6666666666666666,
             "#ed7953"
            ],
            [
             0.7777777777777778,
             "#fb9f3a"
            ],
            [
             0.8888888888888888,
             "#fdca26"
            ],
            [
             1,
             "#f0f921"
            ]
           ]
          },
          "colorway": [
           "#636efa",
           "#EF553B",
           "#00cc96",
           "#ab63fa",
           "#FFA15A",
           "#19d3f3",
           "#FF6692",
           "#B6E880",
           "#FF97FF",
           "#FECB52"
          ],
          "font": {
           "color": "#2a3f5f"
          },
          "geo": {
           "bgcolor": "white",
           "lakecolor": "white",
           "landcolor": "#E5ECF6",
           "showlakes": true,
           "showland": true,
           "subunitcolor": "white"
          },
          "hoverlabel": {
           "align": "left"
          },
          "hovermode": "closest",
          "mapbox": {
           "style": "light"
          },
          "paper_bgcolor": "white",
          "plot_bgcolor": "#E5ECF6",
          "polar": {
           "angularaxis": {
            "gridcolor": "white",
            "linecolor": "white",
            "ticks": ""
           },
           "bgcolor": "#E5ECF6",
           "radialaxis": {
            "gridcolor": "white",
            "linecolor": "white",
            "ticks": ""
           }
          },
          "scene": {
           "xaxis": {
            "backgroundcolor": "#E5ECF6",
            "gridcolor": "white",
            "gridwidth": 2,
            "linecolor": "white",
            "showbackground": true,
            "ticks": "",
            "zerolinecolor": "white"
           },
           "yaxis": {
            "backgroundcolor": "#E5ECF6",
            "gridcolor": "white",
            "gridwidth": 2,
            "linecolor": "white",
            "showbackground": true,
            "ticks": "",
            "zerolinecolor": "white"
           },
           "zaxis": {
            "backgroundcolor": "#E5ECF6",
            "gridcolor": "white",
            "gridwidth": 2,
            "linecolor": "white",
            "showbackground": true,
            "ticks": "",
            "zerolinecolor": "white"
           }
          },
          "shapedefaults": {
           "line": {
            "color": "#2a3f5f"
           }
          },
          "ternary": {
           "aaxis": {
            "gridcolor": "white",
            "linecolor": "white",
            "ticks": ""
           },
           "baxis": {
            "gridcolor": "white",
            "linecolor": "white",
            "ticks": ""
           },
           "bgcolor": "#E5ECF6",
           "caxis": {
            "gridcolor": "white",
            "linecolor": "white",
            "ticks": ""
           }
          },
          "title": {
           "x": 0.05
          },
          "xaxis": {
           "automargin": true,
           "gridcolor": "white",
           "linecolor": "white",
           "ticks": "",
           "title": {
            "standoff": 15
           },
           "zerolinecolor": "white",
           "zerolinewidth": 2
          },
          "yaxis": {
           "automargin": true,
           "gridcolor": "white",
           "linecolor": "white",
           "ticks": "",
           "title": {
            "standoff": 15
           },
           "zerolinecolor": "white",
           "zerolinewidth": 2
          }
         }
        },
        "title": {
         "text": "Top 20 filmes por nota média"
        },
        "xaxis": {
         "anchor": "y",
         "domain": [
          0,
          1
         ],
         "title": {
          "text": "Nota média"
         }
        },
        "yaxis": {
         "anchor": "x",
         "categoryorder": "total ascending",
         "domain": [
          0,
          1
         ],
         "title": {
          "text": "Filme"
         }
        }
       }
      }
     },
     "metadata": {},
     "output_type": "display_data"
    },
    {
     "data": {
      "application/vnd.plotly.v1+json": {
       "config": {
        "plotlyServerURL": "https://plot.ly"
       },
       "data": [
        {
         "hovertemplate": "<b>%{hovertext}</b><br><br>Nota Críticos=%{x}<br>Nota Público=%{y}<extra></extra>",
         "hovertext": [
          "12 homens irritados",
          "2001: Uma Odisseia no Espaço",
          "Os 400 golpes",
          "As Aventuras de Robin Hood",
          "Avião!",
          "Akira",
          "Estrangeiro",
          "Alienígenas",
          "As Aventuras de Priscila, Rainha do Deserto",
          "Aguirre: A Ira de Deus",
          "Tudo sobre Eva",
          "Tudo sobre minha mãe",
          "Todos os homens do presidente",
          "Quase Famoso",
          "Amadeus",
          "Amélie",
          "Amor",
          "Um americano em Paris",
          "Anne Hall",
          "O apartamento",
          "Apocalipse agora",
          "Vingadores: Ultimato",
          "De volta para o futuro",
          "Badlands",
          "A bela e a fera",
          "Ser John Malkovich",
          "Estar lá",
          "Os melhores anos de nossas vidas",
          "Melhor sorte amanhã",
          "Ladrões de bicicletas",
          "O Grande Lebowski",
          "Noites de dança",
          "Meninos não choram",
          "O grande doente",
          "Birdman ou (A Inesperada Virtude da Ignorância)",
          "Falcão Negro abatido",
          "Orfeu Negro",
          "Pantera Negra",
          "Corredor de lâminas",
          "Selas Flamejantes",
          "Boyz e o Capuz",
          "A ponte sobre o rio Kwai",
          "O Clube do Café da Manhã",
          "Sem fôlego",
          "Damas de honra",
          "Transmitir notícias",
          "Montanha de Brokeback",
          "Butch Cassidy e o Sundance Kid",
          "Cabaré",
          "Diário de Bridget Jones",
          "O Gabinete do Dr. Caligari",
          "Me chame pelo seu nome",
          "Carol",
          "Casablanca",
          "Cassino Real",
          "Filhos dos Homens",
          "Chinatown",
          "Cidade de Deus",
          "Cinema Paraíso",
          "Cidadão Kane",
          "Luzes da cidade",
          "Asiáticos ricos e loucos",
          "Clerks",
          "Uma Laranja Mecânica",
          "Clueless",
          "Coco",
          "Tigre Agachado, Dragão Oculto",
          "O Cavaleiro das Trevas",
          "Crença",
          "Amanhecer dos Mortos",
          "Atordoado e confuso",
          "Doutor Strangelove Ou: Como aprendi a parar de me preocupar e amar a bomba",
          "Morrer Difícil",
          "Faça a coisa certa",
          "Doutor Jivago",
          "Tarde de Dia de Cachorro",
          "Não olhe agora",
          "Dupla Indenização",
          "O Dia em que a Terra Parou",
          "Sociedade dos Poetas Mortos",
          "Drácula",
          "Dirigir",
          "Mestre Bêbado II",
          "Sopa de Pato",
          "E.T.o Extraterrestre",
          "Cavaleiro Fácil",
          "Eduardo Mãos de Tesoura",
          "Eleição",
          "O Homem Elefante",
          "Entre no dragão",
          "Brilho Eterno da Mente Sem Lembranças",
          "Mal morto 2",
          "O Exorcista",
          "A despedida",
          "Fargo",
          "Cinco rápidos",
          "Tempos rápidos em Ridgemont High",
          "Clube da Luta",
          "Aquário",
          "Planeta Proibido",
          "Galípoli",
          "Quatro casamentos e um funeral",
          "Frankenstein",
          "A conexão francesa",
          "Frida",
          "Gattaca",
          "O Geral",
          "Sair",
          "Fantasma na Concha",
          "Gandhi",
          "Caça-fantasmas",
          "Viagem de meninas",
          "Grande Ilusão",
          "O Poderoso Chefão, Parte II",
          "Godzilla",
          "007: Dedo de Ouro",
          "O Bom, o Mau e o Feio",
          "Bons companheiros",
          "O Grande Hotel Budapeste",
          "O padrinho",
          "As Vinhas da Ira",
          "Graxa",
          "A Grande Fuga",
          "Dia da Marmota",
          "Guardiões da Galáxia",
          "Laca para cabelo",
          "dia das bruxas",
          "Noite de um dia difícil",
          "Haroldo e Maude",
          "Harry Potter e o Prisioneiro de Azkaban",
          "Herói",
          "O ódio que você dá",
          "Aquecer",
          "Urzes",
          "Edwiges e o Polegada Furiosa",
          "Meio-dia",
          "Sua garota sexta-feira",
          "A caça",
          "Ikiru",
          "No calor da noite",
          "Com vontade de amar",
          "Começo",
          "Homem de Ferro",
          "Bastardos Inglórios",
          "De dentro para fora",
          "O gigante de ferro",
          "Aconteceu uma noite",
          "É uma vida maravilhosa",
          "Maxilas",
          "John Wick",
          "Parque Jurássico",
          "Rei Kong",
          "Confidencial de Los Angeles",
          "A aventura",
          "La Bamba",
          "A Dolce Vita",
          "Senhora Pássaro",
          "A Senhora Eva",
          "Lourenço da Arábia",
          "Deixe a pessoa certa entrar",
          "Arma letal",
          "O Rei Leão",
          "Como água para chocolate",
          "A Pequena Sereia",
          "Logan",
          "O Senhor dos Anéis: A Sociedade do Anel",
          "O Senhor dos Anéis: O Retorno do Rei",
          "O Senhor dos Anéis: As Duas Torres",
          "Pequena Loja dos Horrores",
          "Perdido na tradução",
          "Amor e Basquete",
          "Mad Max: Estrada da Fúria",
          "Malcolm X",
          "O falcão maltês",
          "O candidato da Manchúria",
          "A Matriz",
          "Garotas Malvadas",
          "Metrópole",
          "Tempos Modernos",
          "Casamento das monções",
          "Monty Python e o Santo Graal",
          "Mulholland Dr.",
          "Luar",
          "Meu vizinho Totoro",
          "Nu",
          "A arma nua",
          "Nashville",
          "Meu pé esquerdo",
          "Casa de Animais do Lampoon Nacional",
          "Rede",
          "A Noite do Caçador",
          "Noite dos Mortos-Vivos",
          "Um pesadelo na Elm Street",
          "Não há país para velhos",
          "Norte por Noroeste",
          "Notting Hill",
          "Velho garoto",
          "À beira-mar",
          "Um voou sobre o ninho do cuco",
          "Somente ontem",
          "Cidade Aberta",
          "Labirinto do Fauno",
          "Caixa de Pandora",
          "Parasita",
          "A Paixão de Joana D'Arc",
          "Pater Panchali",
          "A história da Filadélfia",
          "O piano",
          "Pinóquio",
          "Afinação perfeita",
          "Pretty in Pink",
          "The Player",
          "Pulp Fiction",
          "Playtime",
          "Portrait of a Lady on Fire",
          "Princess Mononoke",
          "Psycho",
          "Raging Bull",
          "The Princess Bride",
          "Rafiki",
          "Os Caçadores da Arca Perdida",
          "Rashomon",
          "Janela traseira",
          "Os sapatos vermelhos",
          "Homem do repositório",
          "Réquiem para um sonho",
          "Robo Cop",
          "Rocky",
          "Feriado Romano",
          "O bebê de Rosemary",
          "As regras do jogo",
          "Salvando a cara",
          "Salvando o Soldado Ryan",
          "Diga qualquer coisa...",
          "Cicatriz",
          "Lista de Schindler",
          "Gritar",
          "O mar por dentro",
          "Os pesquisadores",
          "Selma",
          "Sete",
          "Sete Samurais",
          "O Sétimo Selo",
          "Haste",
          "Shaun dos Mortos",
          "A Redenção de Shawshank",
          "O Iluminado",
          "Ladrões de lojas",
          "Shrek",
          "O Silêncio dos Inocentes",
          "Cantando na Chuva",
          "O Sexto Sentido",
          "Milionário do Slumdog",
          "Branca de Neve e os Sete Anões",
          "Alguns gostam de calor",
          "O som da música",
          "Homem-Aranha: No Aranhaverso",
          "Afastado de espírito",
          "Star Wars: Episódio IV - Uma Nova Esperança",
          "Solaris",
          "Star Wars: Episódio V - O Império Contra-Ataca",
          "Direto de Compton",
          "Avenida Pôr do Sol",
          "Muito ruim",
          "Super-homem: o filme",
          "Suspiria",
          "O Conto da Princesa Kaguya",
          "tangerina",
          "Taxista",
          "O Exterminador do Futuro",
          "Terminator 2: Dia do Julgamento",
          "Isto é punção lombar",
          "Titanic",
          "Ser ou não ser",
          "Para matar um Mockingbird",
          "História de Tóquio",
          "Thelma e Luísa",
          "Haverá sangue",
          "A coisa",
          "O Terceiro Homem",
          "Tootsie",
          "Rechamada total",
          "História de brinquedos",
          "Localização de trens",
          "O Tesouro da Sierra Madre",
          "Os guarda-chuvas de Cherbourg",
          "Gemas brutas",
          "Imperdoável",
          "Vertigem",
          "Voltar",
          "História do lado oeste",
          "Wendy e Lúcia",
          "O bando selvagem",
          "Morangos Silvestres",
          "O Mágico de Oz",
          "Mulher Maravilha",
          "E sua mãe também",
          "A irmã da sua irmã",
          "Zero Escuro Trinta",
          "O que o amor tem a ver com isso"
         ],
         "legendgroup": "",
         "marker": {
          "color": "#636efa",
          "symbol": "circle"
         },
         "mode": "markers",
         "name": "",
         "orientation": "v",
         "showlegend": false,
         "type": "scatter",
         "x": {
          "bdata": "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",
          "dtype": "f8"
         },
         "xaxis": "x",
         "y": {
          "bdata": "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",
          "dtype": "f8"
         },
         "yaxis": "y"
        }
       ],
       "layout": {
        "legend": {
         "tracegroupgap": 0
        },
        "template": {
         "data": {
          "bar": [
           {
            "error_x": {
             "color": "#2a3f5f"
            },
            "error_y": {
             "color": "#2a3f5f"
            },
            "marker": {
             "line": {
              "color": "#E5ECF6",
              "width": 0.5
             },
             "pattern": {
              "fillmode": "overlay",
              "size": 10,
              "solidity": 0.2
             }
            },
            "type": "bar"
           }
          ],
          "barpolar": [
           {
            "marker": {
             "line": {
              "color": "#E5ECF6",
              "width": 0.5
             },
             "pattern": {
              "fillmode": "overlay",
              "size": 10,
              "solidity": 0.2
             }
            },
            "type": "barpolar"
           }
          ],
          "carpet": [
           {
            "aaxis": {
             "endlinecolor": "#2a3f5f",
             "gridcolor": "white",
             "linecolor": "white",
             "minorgridcolor": "white",
             "startlinecolor": "#2a3f5f"
            },
            "baxis": {
             "endlinecolor": "#2a3f5f",
             "gridcolor": "white",
             "linecolor": "white",
             "minorgridcolor": "white",
             "startlinecolor": "#2a3f5f"
            },
            "type": "carpet"
           }
          ],
          "choropleth": [
           {
            "colorbar": {
             "outlinewidth": 0,
             "ticks": ""
            },
            "type": "choropleth"
           }
          ],
          "contour": [
           {
            "colorbar": {
             "outlinewidth": 0,
             "ticks": ""
            },
            "colorscale": [
             [
              0,
              "#0d0887"
             ],
             [
              0.1111111111111111,
              "#46039f"
             ],
             [
              0.2222222222222222,
              "#7201a8"
             ],
             [
              0.3333333333333333,
              "#9c179e"
             ],
             [
              0.4444444444444444,
              "#bd3786"
             ],
             [
              0.5555555555555556,
              "#d8576b"
             ],
             [
              0.6666666666666666,
              "#ed7953"
             ],
             [
              0.7777777777777778,
              "#fb9f3a"
             ],
             [
              0.8888888888888888,
              "#fdca26"
             ],
             [
              1,
              "#f0f921"
             ]
            ],
            "type": "contour"
           }
          ],
          "contourcarpet": [
           {
            "colorbar": {
             "outlinewidth": 0,
             "ticks": ""
            },
            "type": "contourcarpet"
           }
          ],
          "heatmap": [
           {
            "colorbar": {
             "outlinewidth": 0,
             "ticks": ""
            },
            "colorscale": [
             [
              0,
              "#0d0887"
             ],
             [
              0.1111111111111111,
              "#46039f"
             ],
             [
              0.2222222222222222,
              "#7201a8"
             ],
             [
              0.3333333333333333,
              "#9c179e"
             ],
             [
              0.4444444444444444,
              "#bd3786"
             ],
             [
              0.5555555555555556,
              "#d8576b"
             ],
             [
              0.6666666666666666,
              "#ed7953"
             ],
             [
              0.7777777777777778,
              "#fb9f3a"
             ],
             [
              0.8888888888888888,
              "#fdca26"
             ],
             [
              1,
              "#f0f921"
             ]
            ],
            "type": "heatmap"
           }
          ],
          "histogram": [
           {
            "marker": {
             "pattern": {
              "fillmode": "overlay",
              "size": 10,
              "solidity": 0.2
             }
            },
            "type": "histogram"
           }
          ],
          "histogram2d": [
           {
            "colorbar": {
             "outlinewidth": 0,
             "ticks": ""
            },
            "colorscale": [
             [
              0,
              "#0d0887"
             ],
             [
              0.1111111111111111,
              "#46039f"
             ],
             [
              0.2222222222222222,
              "#7201a8"
             ],
             [
              0.3333333333333333,
              "#9c179e"
             ],
             [
              0.4444444444444444,
              "#bd3786"
             ],
             [
              0.5555555555555556,
              "#d8576b"
             ],
             [
              0.6666666666666666,
              "#ed7953"
             ],
             [
              0.7777777777777778,
              "#fb9f3a"
             ],
             [
              0.8888888888888888,
              "#fdca26"
             ],
             [
              1,
              "#f0f921"
             ]
            ],
            "type": "histogram2d"
           }
          ],
          "histogram2dcontour": [
           {
            "colorbar": {
             "outlinewidth": 0,
             "ticks": ""
            },
            "colorscale": [
             [
              0,
              "#0d0887"
             ],
             [
              0.1111111111111111,
              "#46039f"
             ],
             [
              0.2222222222222222,
              "#7201a8"
             ],
             [
              0.3333333333333333,
              "#9c179e"
             ],
             [
              0.4444444444444444,
              "#bd3786"
             ],
             [
              0.5555555555555556,
              "#d8576b"
             ],
             [
              0.6666666666666666,
              "#ed7953"
             ],
             [
              0.7777777777777778,
              "#fb9f3a"
             ],
             [
              0.8888888888888888,
              "#fdca26"
             ],
             [
              1,
              "#f0f921"
             ]
            ],
            "type": "histogram2dcontour"
           }
          ],
          "mesh3d": [
           {
            "colorbar": {
             "outlinewidth": 0,
             "ticks": ""
            },
            "type": "mesh3d"
           }
          ],
          "parcoords": [
           {
            "line": {
             "colorbar": {
              "outlinewidth": 0,
              "ticks": ""
             }
            },
            "type": "parcoords"
           }
          ],
          "pie": [
           {
            "automargin": true,
            "type": "pie"
           }
          ],
          "scatter": [
           {
            "fillpattern": {
             "fillmode": "overlay",
             "size": 10,
             "solidity": 0.2
            },
            "type": "scatter"
           }
          ],
          "scatter3d": [
           {
            "line": {
             "colorbar": {
              "outlinewidth": 0,
              "ticks": ""
             }
            },
            "marker": {
             "colorbar": {
              "outlinewidth": 0,
              "ticks": ""
             }
            },
            "type": "scatter3d"
           }
          ],
          "scattercarpet": [
           {
            "marker": {
             "colorbar": {
              "outlinewidth": 0,
              "ticks": ""
             }
            },
            "type": "scattercarpet"
           }
          ],
          "scattergeo": [
           {
            "marker": {
             "colorbar": {
              "outlinewidth": 0,
              "ticks": ""
             }
            },
            "type": "scattergeo"
           }
          ],
          "scattergl": [
           {
            "marker": {
             "colorbar": {
              "outlinewidth": 0,
              "ticks": ""
             }
            },
            "type": "scattergl"
           }
          ],
          "scattermap": [
           {
            "marker": {
             "colorbar": {
              "outlinewidth": 0,
              "ticks": ""
             }
            },
            "type": "scattermap"
           }
          ],
          "scattermapbox": [
           {
            "marker": {
             "colorbar": {
              "outlinewidth": 0,
              "ticks": ""
             }
            },
            "type": "scattermapbox"
           }
          ],
          "scatterpolar": [
           {
            "marker": {
             "colorbar": {
              "outlinewidth": 0,
              "ticks": ""
             }
            },
            "type": "scatterpolar"
           }
          ],
          "scatterpolargl": [
           {
            "marker": {
             "colorbar": {
              "outlinewidth": 0,
              "ticks": ""
             }
            },
            "type": "scatterpolargl"
           }
          ],
          "scatterternary": [
           {
            "marker": {
             "colorbar": {
              "outlinewidth": 0,
              "ticks": ""
             }
            },
            "type": "scatterternary"
           }
          ],
          "surface": [
           {
            "colorbar": {
             "outlinewidth": 0,
             "ticks": ""
            },
            "colorscale": [
             [
              0,
              "#0d0887"
             ],
             [
              0.1111111111111111,
              "#46039f"
             ],
             [
              0.2222222222222222,
              "#7201a8"
             ],
             [
              0.3333333333333333,
              "#9c179e"
             ],
             [
              0.4444444444444444,
              "#bd3786"
             ],
             [
              0.5555555555555556,
              "#d8576b"
             ],
             [
              0.6666666666666666,
              "#ed7953"
             ],
             [
              0.7777777777777778,
              "#fb9f3a"
             ],
             [
              0.8888888888888888,
              "#fdca26"
             ],
             [
              1,
              "#f0f921"
             ]
            ],
            "type": "surface"
           }
          ],
          "table": [
           {
            "cells": {
             "fill": {
              "color": "#EBF0F8"
             },
             "line": {
              "color": "white"
             }
            },
            "header": {
             "fill": {
              "color": "#C8D4E3"
             },
             "line": {
              "color": "white"
             }
            },
            "type": "table"
           }
          ]
         },
         "layout": {
          "annotationdefaults": {
           "arrowcolor": "#2a3f5f",
           "arrowhead": 0,
           "arrowwidth": 1
          },
          "autotypenumbers": "strict",
          "coloraxis": {
           "colorbar": {
            "outlinewidth": 0,
            "ticks": ""
           }
          },
          "colorscale": {
           "diverging": [
            [
             0,
             "#8e0152"
            ],
            [
             0.1,
             "#c51b7d"
            ],
            [
             0.2,
             "#de77ae"
            ],
            [
             0.3,
             "#f1b6da"
            ],
            [
             0.4,
             "#fde0ef"
            ],
            [
             0.5,
             "#f7f7f7"
            ],
            [
             0.6,
             "#e6f5d0"
            ],
            [
             0.7,
             "#b8e186"
            ],
            [
             0.8,
             "#7fbc41"
            ],
            [
             0.9,
             "#4d9221"
            ],
            [
             1,
             "#276419"
            ]
           ],
           "sequential": [
            [
             0,
             "#0d0887"
            ],
            [
             0.1111111111111111,
             "#46039f"
            ],
            [
             0.2222222222222222,
             "#7201a8"
            ],
            [
             0.3333333333333333,
             "#9c179e"
            ],
            [
             0.4444444444444444,
             "#bd3786"
            ],
            [
             0.5555555555555556,
             "#d8576b"
            ],
            [
             0.6666666666666666,
             "#ed7953"
            ],
            [
             0.7777777777777778,
             "#fb9f3a"
            ],
            [
             0.8888888888888888,
             "#fdca26"
            ],
            [
             1,
             "#f0f921"
            ]
           ],
           "sequentialminus": [
            [
             0,
             "#0d0887"
            ],
            [
             0.1111111111111111,
             "#46039f"
            ],
            [
             0.2222222222222222,
             "#7201a8"
            ],
            [
             0.3333333333333333,
             "#9c179e"
            ],
            [
             0.4444444444444444,
             "#bd3786"
            ],
            [
             0.5555555555555556,
             "#d8576b"
            ],
            [
             0.6666666666666666,
             "#ed7953"
            ],
            [
             0.7777777777777778,
             "#fb9f3a"
            ],
            [
             0.8888888888888888,
             "#fdca26"
            ],
            [
             1,
             "#f0f921"
            ]
           ]
          },
          "colorway": [
           "#636efa",
           "#EF553B",
           "#00cc96",
           "#ab63fa",
           "#FFA15A",
           "#19d3f3",
           "#FF6692",
           "#B6E880",
           "#FF97FF",
           "#FECB52"
          ],
          "font": {
           "color": "#2a3f5f"
          },
          "geo": {
           "bgcolor": "white",
           "lakecolor": "white",
           "landcolor": "#E5ECF6",
           "showlakes": true,
           "showland": true,
           "subunitcolor": "white"
          },
          "hoverlabel": {
           "align": "left"
          },
          "hovermode": "closest",
          "mapbox": {
           "style": "light"
          },
          "paper_bgcolor": "white",
          "plot_bgcolor": "#E5ECF6",
          "polar": {
           "angularaxis": {
            "gridcolor": "white",
            "linecolor": "white",
            "ticks": ""
           },
           "bgcolor": "#E5ECF6",
           "radialaxis": {
            "gridcolor": "white",
            "linecolor": "white",
            "ticks": ""
           }
          },
          "scene": {
           "xaxis": {
            "backgroundcolor": "#E5ECF6",
            "gridcolor": "white",
            "gridwidth": 2,
            "linecolor": "white",
            "showbackground": true,
            "ticks": "",
            "zerolinecolor": "white"
           },
           "yaxis": {
            "backgroundcolor": "#E5ECF6",
            "gridcolor": "white",
            "gridwidth": 2,
            "linecolor": "white",
            "showbackground": true,
            "ticks": "",
            "zerolinecolor": "white"
           },
           "zaxis": {
            "backgroundcolor": "#E5ECF6",
            "gridcolor": "white",
            "gridwidth": 2,
            "linecolor": "white",
            "showbackground": true,
            "ticks": "",
            "zerolinecolor": "white"
           }
          },
          "shapedefaults": {
           "line": {
            "color": "#2a3f5f"
           }
          },
          "ternary": {
           "aaxis": {
            "gridcolor": "white",
            "linecolor": "white",
            "ticks": ""
           },
           "baxis": {
            "gridcolor": "white",
            "linecolor": "white",
            "ticks": ""
           },
           "bgcolor": "#E5ECF6",
           "caxis": {
            "gridcolor": "white",
            "linecolor": "white",
            "ticks": ""
           }
          },
          "title": {
           "x": 0.05
          },
          "xaxis": {
           "automargin": true,
           "gridcolor": "white",
           "linecolor": "white",
           "ticks": "",
           "title": {
            "standoff": 15
           },
           "zerolinecolor": "white",
           "zerolinewidth": 2
          },
          "yaxis": {
           "automargin": true,
           "gridcolor": "white",
           "linecolor": "white",
           "ticks": "",
           "title": {
            "standoff": 15
           },
           "zerolinecolor": "white",
           "zerolinewidth": 2
          }
         }
        },
        "title": {
         "text": "Críticos vs Público"
        },
        "xaxis": {
         "anchor": "y",
         "domain": [
          0,
          1
         ],
         "title": {
          "text": "Nota Críticos"
         }
        },
        "yaxis": {
         "anchor": "x",
         "domain": [
          0,
          1
         ],
         "title": {
          "text": "Nota Público"
         }
        }
       }
      }
     },
     "metadata": {},
     "output_type": "display_data"
    },
    {
     "data": {
      "application/vnd.plotly.v1+json": {
       "config": {
        "plotlyServerURL": "https://plot.ly"
       },
       "data": [
        {
         "bingroup": "x",
         "hovertemplate": "Ano=%{x}<br>count=%{y}<extra></extra>",
         "legendgroup": "",
         "marker": {
          "color": "#636efa",
          "pattern": {
           "shape": ""
          }
         },
         "name": "",
         "nbinsx": 20,
         "orientation": "v",
         "showlegend": false,
         "type": "histogram",
         "x": {
          "bdata": "pQewB6cHygeSB7QHvAfEB7sHwgeeB88HuAfQB8AH0QfcB58HuQeoB7sH4wfBB7UHxwfPB7sHmgfSB5wHzgfhB94H0QenB+IHvge2B80HzwfHB8EHpwfbB6UH0QfDB9UHsQe0B38H4QffB5YH1gfWB7YH0gfEB5UHiwfKB7MHywfhB+IH3wfQB9gHugefB8kHxQfEB8UHrQe3B7UHmAesB4sH2wfKB40HvgexB8YHzwe8B7UH1AfDB7UH4wfMB9sHvgfPB9kHpAfKB4sHswfSB70HvgfNB4YH4QfLB8AH4Qe0B7YHogesB68HxgfeB5EHlAe6B6sHyQfeB8QHugesB7MH1AfiB8sHxQfRB9IHoAeUB9wHoAevB9AH2gfZB98HzwfYB44Hmge3B94HyQeNB80HqAfDB6gH4QeVB6oH2AfDB8gHygfFB8IH4QfRB9MH0gfTB9AH3wfIB5UHqgfPB9QHhweQB9EHtwfgB9EHxQfEB8kHxAe3B7oHuAejB7AHwAfXB6cHzwfTB6IHtwfHB5kH1geJB+MHiAejB5QHyQeUB9wHyAevB+MHwgfDB80HqAfKB+IHvAe9B54HogecB8AH0AfDB7gHoQewB5MH1AfOB8UHvwfJB8wH1AekB94HyweiB6UHswfUB8oHvAfiB9EHxwegB88H2AeRB7QHpwetB+IH0Qe5B7wH3weeB9cHuge5B90H3we4B8AHxwfHB9cHvgedB8AHzQeWB6oHoQe+B8YHywfMB5wHrAfjB8gHpgfWB9gHqQfJB7EHpQeTB+EH0QfbB9wH",
          "dtype": "i2"
         },
         "xaxis": "x",
         "yaxis": "y"
        }
       ],
       "layout": {
        "barmode": "relative",
        "legend": {
         "tracegroupgap": 0
        },
        "template": {
         "data": {
          "bar": [
           {
            "error_x": {
             "color": "#2a3f5f"
            },
            "error_y": {
             "color": "#2a3f5f"
            },
            "marker": {
             "line": {
              "color": "#E5ECF6",
              "width": 0.5
             },
             "pattern": {
              "fillmode": "overlay",
              "size": 10,
              "solidity": 0.2
             }
            },
            "type": "bar"
           }
          ],
          "barpolar": [
           {
            "marker": {
             "line": {
              "color": "#E5ECF6",
              "width": 0.5
             },
             "pattern": {
              "fillmode": "overlay",
              "size": 10,
              "solidity": 0.2
             }
            },
            "type": "barpolar"
           }
          ],
          "carpet": [
           {
            "aaxis": {
             "endlinecolor": "#2a3f5f",
             "gridcolor": "white",
             "linecolor": "white",
             "minorgridcolor": "white",
             "startlinecolor": "#2a3f5f"
            },
            "baxis": {
             "endlinecolor": "#2a3f5f",
             "gridcolor": "white",
             "linecolor": "white",
             "minorgridcolor": "white",
             "startlinecolor": "#2a3f5f"
            },
            "type": "carpet"
           }
          ],
          "choropleth": [
           {
            "colorbar": {
             "outlinewidth": 0,
             "ticks": ""
            },
            "type": "choropleth"
           }
          ],
          "contour": [
           {
            "colorbar": {
             "outlinewidth": 0,
             "ticks": ""
            },
            "colorscale": [
             [
              0,
              "#0d0887"
             ],
             [
              0.1111111111111111,
              "#46039f"
             ],
             [
              0.2222222222222222,
              "#7201a8"
             ],
             [
              0.3333333333333333,
              "#9c179e"
             ],
             [
              0.4444444444444444,
              "#bd3786"
             ],
             [
              0.5555555555555556,
              "#d8576b"
             ],
             [
              0.6666666666666666,
              "#ed7953"
             ],
             [
              0.7777777777777778,
              "#fb9f3a"
             ],
             [
              0.8888888888888888,
              "#fdca26"
             ],
             [
              1,
              "#f0f921"
             ]
            ],
            "type": "contour"
           }
          ],
          "contourcarpet": [
           {
            "colorbar": {
             "outlinewidth": 0,
             "ticks": ""
            },
            "type": "contourcarpet"
           }
          ],
          "heatmap": [
           {
            "colorbar": {
             "outlinewidth": 0,
             "ticks": ""
            },
            "colorscale": [
             [
              0,
              "#0d0887"
             ],
             [
              0.1111111111111111,
              "#46039f"
             ],
             [
              0.2222222222222222,
              "#7201a8"
             ],
             [
              0.3333333333333333,
              "#9c179e"
             ],
             [
              0.4444444444444444,
              "#bd3786"
             ],
             [
              0.5555555555555556,
              "#d8576b"
             ],
             [
              0.6666666666666666,
              "#ed7953"
             ],
             [
              0.7777777777777778,
              "#fb9f3a"
             ],
             [
              0.8888888888888888,
              "#fdca26"
             ],
             [
              1,
              "#f0f921"
             ]
            ],
            "type": "heatmap"
           }
          ],
          "histogram": [
           {
            "marker": {
             "pattern": {
              "fillmode": "overlay",
              "size": 10,
              "solidity": 0.2
             }
            },
            "type": "histogram"
           }
          ],
          "histogram2d": [
           {
            "colorbar": {
             "outlinewidth": 0,
             "ticks": ""
            },
            "colorscale": [
             [
              0,
              "#0d0887"
             ],
             [
              0.1111111111111111,
              "#46039f"
             ],
             [
              0.2222222222222222,
              "#7201a8"
             ],
             [
              0.3333333333333333,
              "#9c179e"
             ],
             [
              0.4444444444444444,
              "#bd3786"
             ],
             [
              0.5555555555555556,
              "#d8576b"
             ],
             [
              0.6666666666666666,
              "#ed7953"
             ],
             [
              0.7777777777777778,
              "#fb9f3a"
             ],
             [
              0.8888888888888888,
              "#fdca26"
             ],
             [
              1,
              "#f0f921"
             ]
            ],
            "type": "histogram2d"
           }
          ],
          "histogram2dcontour": [
           {
            "colorbar": {
             "outlinewidth": 0,
             "ticks": ""
            },
            "colorscale": [
             [
              0,
              "#0d0887"
             ],
             [
              0.1111111111111111,
              "#46039f"
             ],
             [
              0.2222222222222222,
              "#7201a8"
             ],
             [
              0.3333333333333333,
              "#9c179e"
             ],
             [
              0.4444444444444444,
              "#bd3786"
             ],
             [
              0.5555555555555556,
              "#d8576b"
             ],
             [
              0.6666666666666666,
              "#ed7953"
             ],
             [
              0.7777777777777778,
              "#fb9f3a"
             ],
             [
              0.8888888888888888,
              "#fdca26"
             ],
             [
              1,
              "#f0f921"
             ]
            ],
            "type": "histogram2dcontour"
           }
          ],
          "mesh3d": [
           {
            "colorbar": {
             "outlinewidth": 0,
             "ticks": ""
            },
            "type": "mesh3d"
           }
          ],
          "parcoords": [
           {
            "line": {
             "colorbar": {
              "outlinewidth": 0,
              "ticks": ""
             }
            },
            "type": "parcoords"
           }
          ],
          "pie": [
           {
            "automargin": true,
            "type": "pie"
           }
          ],
          "scatter": [
           {
            "fillpattern": {
             "fillmode": "overlay",
             "size": 10,
             "solidity": 0.2
            },
            "type": "scatter"
           }
          ],
          "scatter3d": [
           {
            "line": {
             "colorbar": {
              "outlinewidth": 0,
              "ticks": ""
             }
            },
            "marker": {
             "colorbar": {
              "outlinewidth": 0,
              "ticks": ""
             }
            },
            "type": "scatter3d"
           }
          ],
          "scattercarpet": [
           {
            "marker": {
             "colorbar": {
              "outlinewidth": 0,
              "ticks": ""
             }
            },
            "type": "scattercarpet"
           }
          ],
          "scattergeo": [
           {
            "marker": {
             "colorbar": {
              "outlinewidth": 0,
              "ticks": ""
             }
            },
            "type": "scattergeo"
           }
          ],
          "scattergl": [
           {
            "marker": {
             "colorbar": {
              "outlinewidth": 0,
              "ticks": ""
             }
            },
            "type": "scattergl"
           }
          ],
          "scattermap": [
           {
            "marker": {
             "colorbar": {
              "outlinewidth": 0,
              "ticks": ""
             }
            },
            "type": "scattermap"
           }
          ],
          "scattermapbox": [
           {
            "marker": {
             "colorbar": {
              "outlinewidth": 0,
              "ticks": ""
             }
            },
            "type": "scattermapbox"
           }
          ],
          "scatterpolar": [
           {
            "marker": {
             "colorbar": {
              "outlinewidth": 0,
              "ticks": ""
             }
            },
            "type": "scatterpolar"
           }
          ],
          "scatterpolargl": [
           {
            "marker": {
             "colorbar": {
              "outlinewidth": 0,
              "ticks": ""
             }
            },
            "type": "scatterpolargl"
           }
          ],
          "scatterternary": [
           {
            "marker": {
             "colorbar": {
              "outlinewidth": 0,
              "ticks": ""
             }
            },
            "type": "scatterternary"
           }
          ],
          "surface": [
           {
            "colorbar": {
             "outlinewidth": 0,
             "ticks": ""
            },
            "colorscale": [
             [
              0,
              "#0d0887"
             ],
             [
              0.1111111111111111,
              "#46039f"
             ],
             [
              0.2222222222222222,
              "#7201a8"
             ],
             [
              0.3333333333333333,
              "#9c179e"
             ],
             [
              0.4444444444444444,
              "#bd3786"
             ],
             [
              0.5555555555555556,
              "#d8576b"
             ],
             [
              0.6666666666666666,
              "#ed7953"
             ],
             [
              0.7777777777777778,
              "#fb9f3a"
             ],
             [
              0.8888888888888888,
              "#fdca26"
             ],
             [
              1,
              "#f0f921"
             ]
            ],
            "type": "surface"
           }
          ],
          "table": [
           {
            "cells": {
             "fill": {
              "color": "#EBF0F8"
             },
             "line": {
              "color": "white"
             }
            },
            "header": {
             "fill": {
              "color": "#C8D4E3"
             },
             "line": {
              "color": "white"
             }
            },
            "type": "table"
           }
          ]
         },
         "layout": {
          "annotationdefaults": {
           "arrowcolor": "#2a3f5f",
           "arrowhead": 0,
           "arrowwidth": 1
          },
          "autotypenumbers": "strict",
          "coloraxis": {
           "colorbar": {
            "outlinewidth": 0,
            "ticks": ""
           }
          },
          "colorscale": {
           "diverging": [
            [
             0,
             "#8e0152"
            ],
            [
             0.1,
             "#c51b7d"
            ],
            [
             0.2,
             "#de77ae"
            ],
            [
             0.3,
             "#f1b6da"
            ],
            [
             0.4,
             "#fde0ef"
            ],
            [
             0.5,
             "#f7f7f7"
            ],
            [
             0.6,
             "#e6f5d0"
            ],
            [
             0.7,
             "#b8e186"
            ],
            [
             0.8,
             "#7fbc41"
            ],
            [
             0.9,
             "#4d9221"
            ],
            [
             1,
             "#276419"
            ]
           ],
           "sequential": [
            [
             0,
             "#0d0887"
            ],
            [
             0.1111111111111111,
             "#46039f"
            ],
            [
             0.2222222222222222,
             "#7201a8"
            ],
            [
             0.3333333333333333,
             "#9c179e"
            ],
            [
             0.4444444444444444,
             "#bd3786"
            ],
            [
             0.5555555555555556,
             "#d8576b"
            ],
            [
             0.6666666666666666,
             "#ed7953"
            ],
            [
             0.7777777777777778,
             "#fb9f3a"
            ],
            [
             0.8888888888888888,
             "#fdca26"
            ],
            [
             1,
             "#f0f921"
            ]
           ],
           "sequentialminus": [
            [
             0,
             "#0d0887"
            ],
            [
             0.1111111111111111,
             "#46039f"
            ],
            [
             0.2222222222222222,
             "#7201a8"
            ],
            [
             0.3333333333333333,
             "#9c179e"
            ],
            [
             0.4444444444444444,
             "#bd3786"
            ],
            [
             0.5555555555555556,
             "#d8576b"
            ],
            [
             0.6666666666666666,
             "#ed7953"
            ],
            [
             0.7777777777777778,
             "#fb9f3a"
            ],
            [
             0.8888888888888888,
             "#fdca26"
            ],
            [
             1,
             "#f0f921"
            ]
           ]
          },
          "colorway": [
           "#636efa",
           "#EF553B",
           "#00cc96",
           "#ab63fa",
           "#FFA15A",
           "#19d3f3",
           "#FF6692",
           "#B6E880",
           "#FF97FF",
           "#FECB52"
          ],
          "font": {
           "color": "#2a3f5f"
          },
          "geo": {
           "bgcolor": "white",
           "lakecolor": "white",
           "landcolor": "#E5ECF6",
           "showlakes": true,
           "showland": true,
           "subunitcolor": "white"
          },
          "hoverlabel": {
           "align": "left"
          },
          "hovermode": "closest",
          "mapbox": {
           "style": "light"
          },
          "paper_bgcolor": "white",
          "plot_bgcolor": "#E5ECF6",
          "polar": {
           "angularaxis": {
            "gridcolor": "white",
            "linecolor": "white",
            "ticks": ""
           },
           "bgcolor": "#E5ECF6",
           "radialaxis": {
            "gridcolor": "white",
            "linecolor": "white",
            "ticks": ""
           }
          },
          "scene": {
           "xaxis": {
            "backgroundcolor": "#E5ECF6",
            "gridcolor": "white",
            "gridwidth": 2,
            "linecolor": "white",
            "showbackground": true,
            "ticks": "",
            "zerolinecolor": "white"
           },
           "yaxis": {
            "backgroundcolor": "#E5ECF6",
            "gridcolor": "white",
            "gridwidth": 2,
            "linecolor": "white",
            "showbackground": true,
            "ticks": "",
            "zerolinecolor": "white"
           },
           "zaxis": {
            "backgroundcolor": "#E5ECF6",
            "gridcolor": "white",
            "gridwidth": 2,
            "linecolor": "white",
            "showbackground": true,
            "ticks": "",
            "zerolinecolor": "white"
           }
          },
          "shapedefaults": {
           "line": {
            "color": "#2a3f5f"
           }
          },
          "ternary": {
           "aaxis": {
            "gridcolor": "white",
            "linecolor": "white",
            "ticks": ""
           },
           "baxis": {
            "gridcolor": "white",
            "linecolor": "white",
            "ticks": ""
           },
           "bgcolor": "#E5ECF6",
           "caxis": {
            "gridcolor": "white",
            "linecolor": "white",
            "ticks": ""
           }
          },
          "title": {
           "x": 0.05
          },
          "xaxis": {
           "automargin": true,
           "gridcolor": "white",
           "linecolor": "white",
           "ticks": "",
           "title": {
            "standoff": 15
           },
           "zerolinecolor": "white",
           "zerolinewidth": 2
          },
          "yaxis": {
           "automargin": true,
           "gridcolor": "white",
           "linecolor": "white",
           "ticks": "",
           "title": {
            "standoff": 15
           },
           "zerolinecolor": "white",
           "zerolinewidth": 2
          }
         }
        },
        "title": {
         "text": "Número de filmes por ano"
        },
        "xaxis": {
         "anchor": "y",
         "domain": [
          0,
          1
         ],
         "title": {
          "text": "Ano"
         }
        },
        "yaxis": {
         "anchor": "x",
         "domain": [
          0,
          1
         ],
         "title": {
          "text": "count"
         }
        }
       }
      }
     },
     "metadata": {},
     "output_type": "display_data"
    },
    {
     "data": {
      "application/vnd.plotly.v1+json": {
       "config": {
        "plotlyServerURL": "https://plot.ly"
       },
       "data": [
        {
         "hovertemplate": "Diferença de notas=%{x}<br>Filme=%{y}<extra></extra>",
         "legendgroup": "",
         "marker": {
          "color": "#636efa",
          "pattern": {
           "shape": ""
          }
         },
         "name": "",
         "orientation": "h",
         "showlegend": false,
         "textposition": "auto",
         "type": "bar",
         "x": {
          "bdata": "AAAAAACAQ0AAAAAAAAA7QAAAAAAAADtAAAAAAAAAN0AAAAAAAAA1QAAAAAAAADVAAAAAAAAANEAAAAAAAAA0QAAAAAAAADRAAAAAAAAANEAAAAAAAAAzQAAAAAAAADNAAAAAAAAAM0AAAAAAAAAzQAAAAAAAADNAAAAAAAAAM0AAAAAAAAAzQAAAAAAAADJAAAAAAAAAMkAAAAAAAAAyQA==",
          "dtype": "f8"
         },
         "xaxis": "x",
         "y": [
          "Gemas brutas",
          "E.T.o Extraterrestre",
          "Pinóquio",
          "Rocky",
          "Graxa",
          "The Princess Bride",
          "Senhora Pássaro",
          "Homem do repositório",
          "Haste",
          "tangerina",
          "Montanha de Brokeback",
          "Carol",
          "Laca para cabelo",
          "Mulholland Dr.",
          "Branca de Neve e os Sete Anões",
          "Thelma e Luísa",
          "História do lado oeste",
          "Galípoli",
          "Garotas Malvadas",
          "Zero Escuro Trinta"
         ],
         "yaxis": "y"
        }
       ],
       "layout": {
        "barmode": "relative",
        "legend": {
         "tracegroupgap": 0
        },
        "template": {
         "data": {
          "bar": [
           {
            "error_x": {
             "color": "#2a3f5f"
            },
            "error_y": {
             "color": "#2a3f5f"
            },
            "marker": {
             "line": {
              "color": "#E5ECF6",
              "width": 0.5
             },
             "pattern": {
              "fillmode": "overlay",
              "size": 10,
              "solidity": 0.2
             }
            },
            "type": "bar"
           }
          ],
          "barpolar": [
           {
            "marker": {
             "line": {
              "color": "#E5ECF6",
              "width": 0.5
             },
             "pattern": {
              "fillmode": "overlay",
              "size": 10,
              "solidity": 0.2
             }
            },
            "type": "barpolar"
           }
          ],
          "carpet": [
           {
            "aaxis": {
             "endlinecolor": "#2a3f5f",
             "gridcolor": "white",
             "linecolor": "white",
             "minorgridcolor": "white",
             "startlinecolor": "#2a3f5f"
            },
            "baxis": {
             "endlinecolor": "#2a3f5f",
             "gridcolor": "white",
             "linecolor": "white",
             "minorgridcolor": "white",
             "startlinecolor": "#2a3f5f"
            },
            "type": "carpet"
           }
          ],
          "choropleth": [
           {
            "colorbar": {
             "outlinewidth": 0,
             "ticks": ""
            },
            "type": "choropleth"
           }
          ],
          "contour": [
           {
            "colorbar": {
             "outlinewidth": 0,
             "ticks": ""
            },
            "colorscale": [
             [
              0,
              "#0d0887"
             ],
             [
              0.1111111111111111,
              "#46039f"
             ],
             [
              0.2222222222222222,
              "#7201a8"
             ],
             [
              0.3333333333333333,
              "#9c179e"
             ],
             [
              0.4444444444444444,
              "#bd3786"
             ],
             [
              0.5555555555555556,
              "#d8576b"
             ],
             [
              0.6666666666666666,
              "#ed7953"
             ],
             [
              0.7777777777777778,
              "#fb9f3a"
             ],
             [
              0.8888888888888888,
              "#fdca26"
             ],
             [
              1,
              "#f0f921"
             ]
            ],
            "type": "contour"
           }
          ],
          "contourcarpet": [
           {
            "colorbar": {
             "outlinewidth": 0,
             "ticks": ""
            },
            "type": "contourcarpet"
           }
          ],
          "heatmap": [
           {
            "colorbar": {
             "outlinewidth": 0,
             "ticks": ""
            },
            "colorscale": [
             [
              0,
              "#0d0887"
             ],
             [
              0.1111111111111111,
              "#46039f"
             ],
             [
              0.2222222222222222,
              "#7201a8"
             ],
             [
              0.3333333333333333,
              "#9c179e"
             ],
             [
              0.4444444444444444,
              "#bd3786"
             ],
             [
              0.5555555555555556,
              "#d8576b"
             ],
             [
              0.6666666666666666,
              "#ed7953"
             ],
             [
              0.7777777777777778,
              "#fb9f3a"
             ],
             [
              0.8888888888888888,
              "#fdca26"
             ],
             [
              1,
              "#f0f921"
             ]
            ],
            "type": "heatmap"
           }
          ],
          "histogram": [
           {
            "marker": {
             "pattern": {
              "fillmode": "overlay",
              "size": 10,
              "solidity": 0.2
             }
            },
            "type": "histogram"
           }
          ],
          "histogram2d": [
           {
            "colorbar": {
             "outlinewidth": 0,
             "ticks": ""
            },
            "colorscale": [
             [
              0,
              "#0d0887"
             ],
             [
              0.1111111111111111,
              "#46039f"
             ],
             [
              0.2222222222222222,
              "#7201a8"
             ],
             [
              0.3333333333333333,
              "#9c179e"
             ],
             [
              0.4444444444444444,
              "#bd3786"
             ],
             [
              0.5555555555555556,
              "#d8576b"
             ],
             [
              0.6666666666666666,
              "#ed7953"
             ],
             [
              0.7777777777777778,
              "#fb9f3a"
             ],
             [
              0.8888888888888888,
              "#fdca26"
             ],
             [
              1,
              "#f0f921"
             ]
            ],
            "type": "histogram2d"
           }
          ],
          "histogram2dcontour": [
           {
            "colorbar": {
             "outlinewidth": 0,
             "ticks": ""
            },
            "colorscale": [
             [
              0,
              "#0d0887"
             ],
             [
              0.1111111111111111,
              "#46039f"
             ],
             [
              0.2222222222222222,
              "#7201a8"
             ],
             [
              0.3333333333333333,
              "#9c179e"
             ],
             [
              0.4444444444444444,
              "#bd3786"
             ],
             [
              0.5555555555555556,
              "#d8576b"
             ],
             [
              0.6666666666666666,
              "#ed7953"
             ],
             [
              0.7777777777777778,
              "#fb9f3a"
             ],
             [
              0.8888888888888888,
              "#fdca26"
             ],
             [
              1,
              "#f0f921"
             ]
            ],
            "type": "histogram2dcontour"
           }
          ],
          "mesh3d": [
           {
            "colorbar": {
             "outlinewidth": 0,
             "ticks": ""
            },
            "type": "mesh3d"
           }
          ],
          "parcoords": [
           {
            "line": {
             "colorbar": {
              "outlinewidth": 0,
              "ticks": ""
             }
            },
            "type": "parcoords"
           }
          ],
          "pie": [
           {
            "automargin": true,
            "type": "pie"
           }
          ],
          "scatter": [
           {
            "fillpattern": {
             "fillmode": "overlay",
             "size": 10,
             "solidity": 0.2
            },
            "type": "scatter"
           }
          ],
          "scatter3d": [
           {
            "line": {
             "colorbar": {
              "outlinewidth": 0,
              "ticks": ""
             }
            },
            "marker": {
             "colorbar": {
              "outlinewidth": 0,
              "ticks": ""
             }
            },
            "type": "scatter3d"
           }
          ],
          "scattercarpet": [
           {
            "marker": {
             "colorbar": {
              "outlinewidth": 0,
              "ticks": ""
             }
            },
            "type": "scattercarpet"
           }
          ],
          "scattergeo": [
           {
            "marker": {
             "colorbar": {
              "outlinewidth": 0,
              "ticks": ""
             }
            },
            "type": "scattergeo"
           }
          ],
          "scattergl": [
           {
            "marker": {
             "colorbar": {
              "outlinewidth": 0,
              "ticks": ""
             }
            },
            "type": "scattergl"
           }
          ],
          "scattermap": [
           {
            "marker": {
             "colorbar": {
              "outlinewidth": 0,
              "ticks": ""
             }
            },
            "type": "scattermap"
           }
          ],
          "scattermapbox": [
           {
            "marker": {
             "colorbar": {
              "outlinewidth": 0,
              "ticks": ""
             }
            },
            "type": "scattermapbox"
           }
          ],
          "scatterpolar": [
           {
            "marker": {
             "colorbar": {
              "outlinewidth": 0,
              "ticks": ""
             }
            },
            "type": "scatterpolar"
           }
          ],
          "scatterpolargl": [
           {
            "marker": {
             "colorbar": {
              "outlinewidth": 0,
              "ticks": ""
             }
            },
            "type": "scatterpolargl"
           }
          ],
          "scatterternary": [
           {
            "marker": {
             "colorbar": {
              "outlinewidth": 0,
              "ticks": ""
             }
            },
            "type": "scatterternary"
           }
          ],
          "surface": [
           {
            "colorbar": {
             "outlinewidth": 0,
             "ticks": ""
            },
            "colorscale": [
             [
              0,
              "#0d0887"
             ],
             [
              0.1111111111111111,
              "#46039f"
             ],
             [
              0.2222222222222222,
              "#7201a8"
             ],
             [
              0.3333333333333333,
              "#9c179e"
             ],
             [
              0.4444444444444444,
              "#bd3786"
             ],
             [
              0.5555555555555556,
              "#d8576b"
             ],
             [
              0.6666666666666666,
              "#ed7953"
             ],
             [
              0.7777777777777778,
              "#fb9f3a"
             ],
             [
              0.8888888888888888,
              "#fdca26"
             ],
             [
              1,
              "#f0f921"
             ]
            ],
            "type": "surface"
           }
          ],
          "table": [
           {
            "cells": {
             "fill": {
              "color": "#EBF0F8"
             },
             "line": {
              "color": "white"
             }
            },
            "header": {
             "fill": {
              "color": "#C8D4E3"
             },
             "line": {
              "color": "white"
             }
            },
            "type": "table"
           }
          ]
         },
         "layout": {
          "annotationdefaults": {
           "arrowcolor": "#2a3f5f",
           "arrowhead": 0,
           "arrowwidth": 1
          },
          "autotypenumbers": "strict",
          "coloraxis": {
           "colorbar": {
            "outlinewidth": 0,
            "ticks": ""
           }
          },
          "colorscale": {
           "diverging": [
            [
             0,
             "#8e0152"
            ],
            [
             0.1,
             "#c51b7d"
            ],
            [
             0.2,
             "#de77ae"
            ],
            [
             0.3,
             "#f1b6da"
            ],
            [
             0.4,
             "#fde0ef"
            ],
            [
             0.5,
             "#f7f7f7"
            ],
            [
             0.6,
             "#e6f5d0"
            ],
            [
             0.7,
             "#b8e186"
            ],
            [
             0.8,
             "#7fbc41"
            ],
            [
             0.9,
             "#4d9221"
            ],
            [
             1,
             "#276419"
            ]
           ],
           "sequential": [
            [
             0,
             "#0d0887"
            ],
            [
             0.1111111111111111,
             "#46039f"
            ],
            [
             0.2222222222222222,
             "#7201a8"
            ],
            [
             0.3333333333333333,
             "#9c179e"
            ],
            [
             0.4444444444444444,
             "#bd3786"
            ],
            [
             0.5555555555555556,
             "#d8576b"
            ],
            [
             0.6666666666666666,
             "#ed7953"
            ],
            [
             0.7777777777777778,
             "#fb9f3a"
            ],
            [
             0.8888888888888888,
             "#fdca26"
            ],
            [
             1,
             "#f0f921"
            ]
           ],
           "sequentialminus": [
            [
             0,
             "#0d0887"
            ],
            [
             0.1111111111111111,
             "#46039f"
            ],
            [
             0.2222222222222222,
             "#7201a8"
            ],
            [
             0.3333333333333333,
             "#9c179e"
            ],
            [
             0.4444444444444444,
             "#bd3786"
            ],
            [
             0.5555555555555556,
             "#d8576b"
            ],
            [
             0.6666666666666666,
             "#ed7953"
            ],
            [
             0.7777777777777778,
             "#fb9f3a"
            ],
            [
             0.8888888888888888,
             "#fdca26"
            ],
            [
             1,
             "#f0f921"
            ]
           ]
          },
          "colorway": [
           "#636efa",
           "#EF553B",
           "#00cc96",
           "#ab63fa",
           "#FFA15A",
           "#19d3f3",
           "#FF6692",
           "#B6E880",
           "#FF97FF",
           "#FECB52"
          ],
          "font": {
           "color": "#2a3f5f"
          },
          "geo": {
           "bgcolor": "white",
           "lakecolor": "white",
           "landcolor": "#E5ECF6",
           "showlakes": true,
           "showland": true,
           "subunitcolor": "white"
          },
          "hoverlabel": {
           "align": "left"
          },
          "hovermode": "closest",
          "mapbox": {
           "style": "light"
          },
          "paper_bgcolor": "white",
          "plot_bgcolor": "#E5ECF6",
          "polar": {
           "angularaxis": {
            "gridcolor": "white",
            "linecolor": "white",
            "ticks": ""
           },
           "bgcolor": "#E5ECF6",
           "radialaxis": {
            "gridcolor": "white",
            "linecolor": "white",
            "ticks": ""
           }
          },
          "scene": {
           "xaxis": {
            "backgroundcolor": "#E5ECF6",
            "gridcolor": "white",
            "gridwidth": 2,
            "linecolor": "white",
            "showbackground": true,
            "ticks": "",
            "zerolinecolor": "white"
           },
           "yaxis": {
            "backgroundcolor": "#E5ECF6",
            "gridcolor": "white",
            "gridwidth": 2,
            "linecolor": "white",
            "showbackground": true,
            "ticks": "",
            "zerolinecolor": "white"
           },
           "zaxis": {
            "backgroundcolor": "#E5ECF6",
            "gridcolor": "white",
            "gridwidth": 2,
            "linecolor": "white",
            "showbackground": true,
            "ticks": "",
            "zerolinecolor": "white"
           }
          },
          "shapedefaults": {
           "line": {
            "color": "#2a3f5f"
           }
          },
          "ternary": {
           "aaxis": {
            "gridcolor": "white",
            "linecolor": "white",
            "ticks": ""
           },
           "baxis": {
            "gridcolor": "white",
            "linecolor": "white",
            "ticks": ""
           },
           "bgcolor": "#E5ECF6",
           "caxis": {
            "gridcolor": "white",
            "linecolor": "white",
            "ticks": ""
           }
          },
          "title": {
           "x": 0.05
          },
          "xaxis": {
           "automargin": true,
           "gridcolor": "white",
           "linecolor": "white",
           "ticks": "",
           "title": {
            "standoff": 15
           },
           "zerolinecolor": "white",
           "zerolinewidth": 2
          },
          "yaxis": {
           "automargin": true,
           "gridcolor": "white",
           "linecolor": "white",
           "ticks": "",
           "title": {
            "standoff": 15
           },
           "zerolinecolor": "white",
           "zerolinewidth": 2
          }
         }
        },
        "title": {
         "text": "Top 20 filmes com maior diferença Críticos x Público"
        },
        "xaxis": {
         "anchor": "y",
         "domain": [
          0,
          1
         ],
         "title": {
          "text": "Diferença de notas"
         }
        },
        "yaxis": {
         "anchor": "x",
         "categoryorder": "total ascending",
         "domain": [
          0,
          1
         ],
         "title": {
          "text": "Filme"
         }
        }
       }
      }
     },
     "metadata": {},
     "output_type": "display_data"
    },
    {
     "data": {
      "application/vnd.plotly.v1+json": {
       "config": {
        "plotlyServerURL": "https://plot.ly"
       },
       "data": [
        {
         "hovertemplate": "<b>%{hovertext}</b><br><br>Ano=%{x}<br>index=%{y}<br>Nota Média=%{marker.color}<extra></extra>",
         "hovertext": [
          "12 homens irritados",
          "2001: Uma Odisseia no Espaço",
          "Os 400 golpes",
          "As Aventuras de Robin Hood",
          "Avião!",
          "Akira",
          "Estrangeiro",
          "Alienígenas",
          "As Aventuras de Priscila, Rainha do Deserto",
          "Aguirre: A Ira de Deus",
          "Tudo sobre Eva",
          "Tudo sobre minha mãe",
          "Todos os homens do presidente",
          "Quase Famoso",
          "Amadeus",
          "Amélie",
          "Amor",
          "Um americano em Paris",
          "Anne Hall",
          "O apartamento",
          "Apocalipse agora",
          "Vingadores: Ultimato",
          "De volta para o futuro",
          "Badlands",
          "A bela e a fera",
          "Ser John Malkovich",
          "Estar lá",
          "Os melhores anos de nossas vidas",
          "Melhor sorte amanhã",
          "Ladrões de bicicletas",
          "O Grande Lebowski",
          "Noites de dança",
          "Meninos não choram",
          "O grande doente",
          "Birdman ou (A Inesperada Virtude da Ignorância)",
          "Falcão Negro abatido",
          "Orfeu Negro",
          "Pantera Negra",
          "Corredor de lâminas",
          "Selas Flamejantes",
          "Boyz e o Capuz",
          "A ponte sobre o rio Kwai",
          "O Clube do Café da Manhã",
          "Sem fôlego",
          "Damas de honra",
          "Transmitir notícias",
          "Montanha de Brokeback",
          "Butch Cassidy e o Sundance Kid",
          "Cabaré",
          "Diário de Bridget Jones",
          "O Gabinete do Dr. Caligari",
          "Me chame pelo seu nome",
          "Carol",
          "Casablanca",
          "Cassino Real",
          "Filhos dos Homens",
          "Chinatown",
          "Cidade de Deus",
          "Cinema Paraíso",
          "Cidadão Kane",
          "Luzes da cidade",
          "Asiáticos ricos e loucos",
          "Clerks",
          "Uma Laranja Mecânica",
          "Clueless",
          "Coco",
          "Tigre Agachado, Dragão Oculto",
          "O Cavaleiro das Trevas",
          "Crença",
          "Amanhecer dos Mortos",
          "Atordoado e confuso",
          "Doutor Strangelove Ou: Como aprendi a parar de me preocupar e amar a bomba",
          "Morrer Difícil",
          "Faça a coisa certa",
          "Doutor Jivago",
          "Tarde de Dia de Cachorro",
          "Não olhe agora",
          "Dupla Indenização",
          "O Dia em que a Terra Parou",
          "Sociedade dos Poetas Mortos",
          "Drácula",
          "Dirigir",
          "Mestre Bêbado II",
          "Sopa de Pato",
          "E.T.o Extraterrestre",
          "Cavaleiro Fácil",
          "Eduardo Mãos de Tesoura",
          "Eleição",
          "O Homem Elefante",
          "Entre no dragão",
          "Brilho Eterno da Mente Sem Lembranças",
          "Mal morto 2",
          "O Exorcista",
          "A despedida",
          "Fargo",
          "Cinco rápidos",
          "Tempos rápidos em Ridgemont High",
          "Clube da Luta",
          "Aquário",
          "Planeta Proibido",
          "Galípoli",
          "Quatro casamentos e um funeral",
          "Frankenstein",
          "A conexão francesa",
          "Frida",
          "Gattaca",
          "O Geral",
          "Sair",
          "Fantasma na Concha",
          "Gandhi",
          "Caça-fantasmas",
          "Viagem de meninas",
          "Grande Ilusão",
          "O Poderoso Chefão, Parte II",
          "Godzilla",
          "007: Dedo de Ouro",
          "O Bom, o Mau e o Feio",
          "Bons companheiros",
          "O Grande Hotel Budapeste",
          "O padrinho",
          "As Vinhas da Ira",
          "Graxa",
          "A Grande Fuga",
          "Dia da Marmota",
          "Guardiões da Galáxia",
          "Laca para cabelo",
          "dia das bruxas",
          "Noite de um dia difícil",
          "Haroldo e Maude",
          "Harry Potter e o Prisioneiro de Azkaban",
          "Herói",
          "O ódio que você dá",
          "Aquecer",
          "Urzes",
          "Edwiges e o Polegada Furiosa",
          "Meio-dia",
          "Sua garota sexta-feira",
          "A caça",
          "Ikiru",
          "No calor da noite",
          "Com vontade de amar",
          "Começo",
          "Homem de Ferro",
          "Bastardos Inglórios",
          "De dentro para fora",
          "O gigante de ferro",
          "Aconteceu uma noite",
          "É uma vida maravilhosa",
          "Maxilas",
          "John Wick",
          "Parque Jurássico",
          "Rei Kong",
          "Confidencial de Los Angeles",
          "A aventura",
          "La Bamba",
          "A Dolce Vita",
          "Senhora Pássaro",
          "A Senhora Eva",
          "Lourenço da Arábia",
          "Deixe a pessoa certa entrar",
          "Arma letal",
          "O Rei Leão",
          "Como água para chocolate",
          "A Pequena Sereia",
          "Logan",
          "O Senhor dos Anéis: A Sociedade do Anel",
          "O Senhor dos Anéis: O Retorno do Rei",
          "O Senhor dos Anéis: As Duas Torres",
          "Pequena Loja dos Horrores",
          "Perdido na tradução",
          "Amor e Basquete",
          "Mad Max: Estrada da Fúria",
          "Malcolm X",
          "O falcão maltês",
          "O candidato da Manchúria",
          "A Matriz",
          "Garotas Malvadas",
          "Metrópole",
          "Tempos Modernos",
          "Casamento das monções",
          "Monty Python e o Santo Graal",
          "Mulholland Dr.",
          "Luar",
          "Meu vizinho Totoro",
          "Nu",
          "A arma nua",
          "Nashville",
          "Meu pé esquerdo",
          "Casa de Animais do Lampoon Nacional",
          "Rede",
          "A Noite do Caçador",
          "Noite dos Mortos-Vivos",
          "Um pesadelo na Elm Street",
          "Não há país para velhos",
          "Norte por Noroeste",
          "Notting Hill",
          "Velho garoto",
          "À beira-mar",
          "Um voou sobre o ninho do cuco",
          "Somente ontem",
          "Cidade Aberta",
          "Labirinto do Fauno",
          "Caixa de Pandora",
          "Parasita",
          "A Paixão de Joana D'Arc",
          "Pater Panchali",
          "A história da Filadélfia",
          "O piano",
          "Pinóquio",
          "Afinação perfeita",
          "Pretty in Pink",
          "The Player",
          "Pulp Fiction",
          "Playtime",
          "Portrait of a Lady on Fire",
          "Princess Mononoke",
          "Psycho",
          "Raging Bull",
          "The Princess Bride",
          "Rafiki",
          "Os Caçadores da Arca Perdida",
          "Rashomon",
          "Janela traseira",
          "Os sapatos vermelhos",
          "Homem do repositório",
          "Réquiem para um sonho",
          "Robo Cop",
          "Rocky",
          "Feriado Romano",
          "O bebê de Rosemary",
          "As regras do jogo",
          "Salvando a cara",
          "Salvando o Soldado Ryan",
          "Diga qualquer coisa...",
          "Cicatriz",
          "Lista de Schindler",
          "Gritar",
          "O mar por dentro",
          "Os pesquisadores",
          "Selma",
          "Sete",
          "Sete Samurais",
          "O Sétimo Selo",
          "Haste",
          "Shaun dos Mortos",
          "A Redenção de Shawshank",
          "O Iluminado",
          "Ladrões de lojas",
          "Shrek",
          "O Silêncio dos Inocentes",
          "Cantando na Chuva",
          "O Sexto Sentido",
          "Milionário do Slumdog",
          "Branca de Neve e os Sete Anões",
          "Alguns gostam de calor",
          "O som da música",
          "Homem-Aranha: No Aranhaverso",
          "Afastado de espírito",
          "Star Wars: Episódio IV - Uma Nova Esperança",
          "Solaris",
          "Star Wars: Episódio V - O Império Contra-Ataca",
          "Direto de Compton",
          "Avenida Pôr do Sol",
          "Muito ruim",
          "Super-homem: o filme",
          "Suspiria",
          "O Conto da Princesa Kaguya",
          "tangerina",
          "Taxista",
          "O Exterminador do Futuro",
          "Terminator 2: Dia do Julgamento",
          "Isto é punção lombar",
          "Titanic",
          "Ser ou não ser",
          "Para matar um Mockingbird",
          "História de Tóquio",
          "Thelma e Luísa",
          "Haverá sangue",
          "A coisa",
          "O Terceiro Homem",
          "Tootsie",
          "Rechamada total",
          "História de brinquedos",
          "Localização de trens",
          "O Tesouro da Sierra Madre",
          "Os guarda-chuvas de Cherbourg",
          "Gemas brutas",
          "Imperdoável",
          "Vertigem",
          "Voltar",
          "História do lado oeste",
          "Wendy e Lúcia",
          "O bando selvagem",
          "Morangos Silvestres",
          "O Mágico de Oz",
          "Mulher Maravilha",
          "E sua mãe também",
          "A irmã da sua irmã",
          "Zero Escuro Trinta",
          "O que o amor tem a ver com isso"
         ],
         "legendgroup": "",
         "marker": {
          "color": {
           "bdata": "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",
           "dtype": "f8"
          },
          "coloraxis": "coloraxis",
          "size": {
           "bdata": "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",
           "dtype": "f8"
          },
          "sizemode": "area",
          "sizeref": 0.24625,
          "symbol": "circle"
         },
         "mode": "markers",
         "name": "",
         "orientation": "h",
         "showlegend": false,
         "type": "scatter",
         "x": {
          "bdata": "pQewB6cHygeSB7QHvAfEB7sHwgeeB88HuAfQB8AH0QfcB58HuQeoB7sH4wfBB7UHxwfPB7sHmgfSB5wHzgfhB94H0QenB+IHvge2B80HzwfHB8EHpwfbB6UH0QfDB9UHsQe0B38H4QffB5YH1gfWB7YH0gfEB5UHiwfKB7MHywfhB+IH3wfQB9gHugefB8kHxQfEB8UHrQe3B7UHmAesB4sH2wfKB40HvgexB8YHzwe8B7UH1AfDB7UH4wfMB9sHvgfPB9kHpAfKB4sHswfSB70HvgfNB4YH4QfLB8AH4Qe0B7YHogesB68HxgfeB5EHlAe6B6sHyQfeB8QHugesB7MH1AfiB8sHxQfRB9IHoAeUB9wHoAevB9AH2gfZB98HzwfYB44Hmge3B94HyQeNB80HqAfDB6gH4QeVB6oH2AfDB8gHygfFB8IH4QfRB9MH0gfTB9AH3wfIB5UHqgfPB9QHhweQB9EHtwfgB9EHxQfEB8kHxAe3B7oHuAejB7AHwAfXB6cHzwfTB6IHtwfHB5kH1geJB+MHiAejB5QHyQeUB9wHyAevB+MHwgfDB80HqAfKB+IHvAe9B54HogecB8AH0AfDB7gHoQewB5MH1AfOB8UHvwfJB8wH1AekB94HyweiB6UHswfUB8oHvAfiB9EHxwegB88H2AeRB7QHpwetB+IH0Qe5B7wH3weeB9cHuge5B90H3we4B8AHxwfHB9cHvgedB8AHzQeWB6oHoQe+B8YHywfMB5wHrAfjB8gHpgfWB9gHqQfJB7EHpQeTB+EH0QfbB9wH",
          "dtype": "i2"
         },
         "xaxis": "x",
         "y": {
          "bdata": "AAABAAIAAwAEAAUABgAHAAgACQAKAAsADAANAA4ADwAQABEAEgATABQAFQAWABcAGAAZABoAGwAcAB0AHgAfACAAIQAiACMAJAAlACYAJwAoACkAKgArACwALQAuAC8AMAAxADIAMwA0ADUANgA3ADgAOQA6ADsAPAA9AD4APwBAAEEAQgBDAEQARQBGAEcASABJAEoASwBMAE0ATgBPAFAAUQBSAFMAVABVAFYAVwBYAFkAWgBbAFwAXQBeAF8AYABhAGIAYwBkAGUAZgBnAGgAaQBqAGsAbABtAG4AbwBwAHEAcgBzAHQAdQB2AHcAeAB5AHoAewB8AH0AfgB/AIAAgQCCAIMAhACFAIYAhwCIAIkAigCLAIwAjQCOAI8AkACRAJIAkwCUAJUAlgCXAJgAmQCaAJsAnACdAJ4AnwCgAKEAogCjAKQApQCmAKcAqACpAKoAqwCsAK0ArgCvALAAsQCyALMAtAC1ALYAtwC4ALkAugC7ALwAvQC+AL8AwADBAMIAwwDEAMUAxgDHAMgAyQDKAMsAzADNAM4AzwDQANEA0gDTANQA1QDWANcA2ADZANoA2wDcAN0A3gDfAOAA4QDiAOMA5ADlAOYA5wDoAOkA6gDrAOwA7QDuAO8A8ADxAPIA8wD0APUA9gD3APgA+QD6APsA/AD9AP4A/wAAAQEBAgEDAQQBBQEGAQcBCAEJAQoBCwEMAQ0BDgEPARABEQESARMBFAEVARYBFwEYARkBGgEbARwBHQEeAR8BIAEhASIBIwEkASUBJgEnASgBKQEqASsB",
          "dtype": "i2"
         },
         "yaxis": "y"
        }
       ],
       "layout": {
        "coloraxis": {
         "colorbar": {
          "title": {
           "text": "Nota Média"
          }
         },
         "colorscale": [
          [
           0,
           "#0d0887"
          ],
          [
           0.1111111111111111,
           "#46039f"
          ],
          [
           0.2222222222222222,
           "#7201a8"
          ],
          [
           0.3333333333333333,
           "#9c179e"
          ],
          [
           0.4444444444444444,
           "#bd3786"
          ],
          [
           0.5555555555555556,
           "#d8576b"
          ],
          [
           0.6666666666666666,
           "#ed7953"
          ],
          [
           0.7777777777777778,
           "#fb9f3a"
          ],
          [
           0.8888888888888888,
           "#fdca26"
          ],
          [
           1,
           "#f0f921"
          ]
         ]
        },
        "legend": {
         "itemsizing": "constant",
         "tracegroupgap": 0
        },
        "template": {
         "data": {
          "bar": [
           {
            "error_x": {
             "color": "#2a3f5f"
            },
            "error_y": {
             "color": "#2a3f5f"
            },
            "marker": {
             "line": {
              "color": "#E5ECF6",
              "width": 0.5
             },
             "pattern": {
              "fillmode": "overlay",
              "size": 10,
              "solidity": 0.2
             }
            },
            "type": "bar"
           }
          ],
          "barpolar": [
           {
            "marker": {
             "line": {
              "color": "#E5ECF6",
              "width": 0.5
             },
             "pattern": {
              "fillmode": "overlay",
              "size": 10,
              "solidity": 0.2
             }
            },
            "type": "barpolar"
           }
          ],
          "carpet": [
           {
            "aaxis": {
             "endlinecolor": "#2a3f5f",
             "gridcolor": "white",
             "linecolor": "white",
             "minorgridcolor": "white",
             "startlinecolor": "#2a3f5f"
            },
            "baxis": {
             "endlinecolor": "#2a3f5f",
             "gridcolor": "white",
             "linecolor": "white",
             "minorgridcolor": "white",
             "startlinecolor": "#2a3f5f"
            },
            "type": "carpet"
           }
          ],
          "choropleth": [
           {
            "colorbar": {
             "outlinewidth": 0,
             "ticks": ""
            },
            "type": "choropleth"
           }
          ],
          "contour": [
           {
            "colorbar": {
             "outlinewidth": 0,
             "ticks": ""
            },
            "colorscale": [
             [
              0,
              "#0d0887"
             ],
             [
              0.1111111111111111,
              "#46039f"
             ],
             [
              0.2222222222222222,
              "#7201a8"
             ],
             [
              0.3333333333333333,
              "#9c179e"
             ],
             [
              0.4444444444444444,
              "#bd3786"
             ],
             [
              0.5555555555555556,
              "#d8576b"
             ],
             [
              0.6666666666666666,
              "#ed7953"
             ],
             [
              0.7777777777777778,
              "#fb9f3a"
             ],
             [
              0.8888888888888888,
              "#fdca26"
             ],
             [
              1,
              "#f0f921"
             ]
            ],
            "type": "contour"
           }
          ],
          "contourcarpet": [
           {
            "colorbar": {
             "outlinewidth": 0,
             "ticks": ""
            },
            "type": "contourcarpet"
           }
          ],
          "heatmap": [
           {
            "colorbar": {
             "outlinewidth": 0,
             "ticks": ""
            },
            "colorscale": [
             [
              0,
              "#0d0887"
             ],
             [
              0.1111111111111111,
              "#46039f"
             ],
             [
              0.2222222222222222,
              "#7201a8"
             ],
             [
              0.3333333333333333,
              "#9c179e"
             ],
             [
              0.4444444444444444,
              "#bd3786"
             ],
             [
              0.5555555555555556,
              "#d8576b"
             ],
             [
              0.6666666666666666,
              "#ed7953"
             ],
             [
              0.7777777777777778,
              "#fb9f3a"
             ],
             [
              0.8888888888888888,
              "#fdca26"
             ],
             [
              1,
              "#f0f921"
             ]
            ],
            "type": "heatmap"
           }
          ],
          "histogram": [
           {
            "marker": {
             "pattern": {
              "fillmode": "overlay",
              "size": 10,
              "solidity": 0.2
             }
            },
            "type": "histogram"
           }
          ],
          "histogram2d": [
           {
            "colorbar": {
             "outlinewidth": 0,
             "ticks": ""
            },
            "colorscale": [
             [
              0,
              "#0d0887"
             ],
             [
              0.1111111111111111,
              "#46039f"
             ],
             [
              0.2222222222222222,
              "#7201a8"
             ],
             [
              0.3333333333333333,
              "#9c179e"
             ],
             [
              0.4444444444444444,
              "#bd3786"
             ],
             [
              0.5555555555555556,
              "#d8576b"
             ],
             [
              0.6666666666666666,
              "#ed7953"
             ],
             [
              0.7777777777777778,
              "#fb9f3a"
             ],
             [
              0.8888888888888888,
              "#fdca26"
             ],
             [
              1,
              "#f0f921"
             ]
            ],
            "type": "histogram2d"
           }
          ],
          "histogram2dcontour": [
           {
            "colorbar": {
             "outlinewidth": 0,
             "ticks": ""
            },
            "colorscale": [
             [
              0,
              "#0d0887"
             ],
             [
              0.1111111111111111,
              "#46039f"
             ],
             [
              0.2222222222222222,
              "#7201a8"
             ],
             [
              0.3333333333333333,
              "#9c179e"
             ],
             [
              0.4444444444444444,
              "#bd3786"
             ],
             [
              0.5555555555555556,
              "#d8576b"
             ],
             [
              0.6666666666666666,
              "#ed7953"
             ],
             [
              0.7777777777777778,
              "#fb9f3a"
             ],
             [
              0.8888888888888888,
              "#fdca26"
             ],
             [
              1,
              "#f0f921"
             ]
            ],
            "type": "histogram2dcontour"
           }
          ],
          "mesh3d": [
           {
            "colorbar": {
             "outlinewidth": 0,
             "ticks": ""
            },
            "type": "mesh3d"
           }
          ],
          "parcoords": [
           {
            "line": {
             "colorbar": {
              "outlinewidth": 0,
              "ticks": ""
             }
            },
            "type": "parcoords"
           }
          ],
          "pie": [
           {
            "automargin": true,
            "type": "pie"
           }
          ],
          "scatter": [
           {
            "fillpattern": {
             "fillmode": "overlay",
             "size": 10,
             "solidity": 0.2
            },
            "type": "scatter"
           }
          ],
          "scatter3d": [
           {
            "line": {
             "colorbar": {
              "outlinewidth": 0,
              "ticks": ""
             }
            },
            "marker": {
             "colorbar": {
              "outlinewidth": 0,
              "ticks": ""
             }
            },
            "type": "scatter3d"
           }
          ],
          "scattercarpet": [
           {
            "marker": {
             "colorbar": {
              "outlinewidth": 0,
              "ticks": ""
             }
            },
            "type": "scattercarpet"
           }
          ],
          "scattergeo": [
           {
            "marker": {
             "colorbar": {
              "outlinewidth": 0,
              "ticks": ""
             }
            },
            "type": "scattergeo"
           }
          ],
          "scattergl": [
           {
            "marker": {
             "colorbar": {
              "outlinewidth": 0,
              "ticks": ""
             }
            },
            "type": "scattergl"
           }
          ],
          "scattermap": [
           {
            "marker": {
             "colorbar": {
              "outlinewidth": 0,
              "ticks": ""
             }
            },
            "type": "scattermap"
           }
          ],
          "scattermapbox": [
           {
            "marker": {
             "colorbar": {
              "outlinewidth": 0,
              "ticks": ""
             }
            },
            "type": "scattermapbox"
           }
          ],
          "scatterpolar": [
           {
            "marker": {
             "colorbar": {
              "outlinewidth": 0,
              "ticks": ""
             }
            },
            "type": "scatterpolar"
           }
          ],
          "scatterpolargl": [
           {
            "marker": {
             "colorbar": {
              "outlinewidth": 0,
              "ticks": ""
             }
            },
            "type": "scatterpolargl"
           }
          ],
          "scatterternary": [
           {
            "marker": {
             "colorbar": {
              "outlinewidth": 0,
              "ticks": ""
             }
            },
            "type": "scatterternary"
           }
          ],
          "surface": [
           {
            "colorbar": {
             "outlinewidth": 0,
             "ticks": ""
            },
            "colorscale": [
             [
              0,
              "#0d0887"
             ],
             [
              0.1111111111111111,
              "#46039f"
             ],
             [
              0.2222222222222222,
              "#7201a8"
             ],
             [
              0.3333333333333333,
              "#9c179e"
             ],
             [
              0.4444444444444444,
              "#bd3786"
             ],
             [
              0.5555555555555556,
              "#d8576b"
             ],
             [
              0.6666666666666666,
              "#ed7953"
             ],
             [
              0.7777777777777778,
              "#fb9f3a"
             ],
             [
              0.8888888888888888,
              "#fdca26"
             ],
             [
              1,
              "#f0f921"
             ]
            ],
            "type": "surface"
           }
          ],
          "table": [
           {
            "cells": {
             "fill": {
              "color": "#EBF0F8"
             },
             "line": {
              "color": "white"
             }
            },
            "header": {
             "fill": {
              "color": "#C8D4E3"
             },
             "line": {
              "color": "white"
             }
            },
            "type": "table"
           }
          ]
         },
         "layout": {
          "annotationdefaults": {
           "arrowcolor": "#2a3f5f",
           "arrowhead": 0,
           "arrowwidth": 1
          },
          "autotypenumbers": "strict",
          "coloraxis": {
           "colorbar": {
            "outlinewidth": 0,
            "ticks": ""
           }
          },
          "colorscale": {
           "diverging": [
            [
             0,
             "#8e0152"
            ],
            [
             0.1,
             "#c51b7d"
            ],
            [
             0.2,
             "#de77ae"
            ],
            [
             0.3,
             "#f1b6da"
            ],
            [
             0.4,
             "#fde0ef"
            ],
            [
             0.5,
             "#f7f7f7"
            ],
            [
             0.6,
             "#e6f5d0"
            ],
            [
             0.7,
             "#b8e186"
            ],
            [
             0.8,
             "#7fbc41"
            ],
            [
             0.9,
             "#4d9221"
            ],
            [
             1,
             "#276419"
            ]
           ],
           "sequential": [
            [
             0,
             "#0d0887"
            ],
            [
             0.1111111111111111,
             "#46039f"
            ],
            [
             0.2222222222222222,
             "#7201a8"
            ],
            [
             0.3333333333333333,
             "#9c179e"
            ],
            [
             0.4444444444444444,
             "#bd3786"
            ],
            [
             0.5555555555555556,
             "#d8576b"
            ],
            [
             0.6666666666666666,
             "#ed7953"
            ],
            [
             0.7777777777777778,
             "#fb9f3a"
            ],
            [
             0.8888888888888888,
             "#fdca26"
            ],
            [
             1,
             "#f0f921"
            ]
           ],
           "sequentialminus": [
            [
             0,
             "#0d0887"
            ],
            [
             0.1111111111111111,
             "#46039f"
            ],
            [
             0.2222222222222222,
             "#7201a8"
            ],
            [
             0.3333333333333333,
             "#9c179e"
            ],
            [
             0.4444444444444444,
             "#bd3786"
            ],
            [
             0.5555555555555556,
             "#d8576b"
            ],
            [
             0.6666666666666666,
             "#ed7953"
            ],
            [
             0.7777777777777778,
             "#fb9f3a"
            ],
            [
             0.8888888888888888,
             "#fdca26"
            ],
            [
             1,
             "#f0f921"
            ]
           ]
          },
          "colorway": [
           "#636efa",
           "#EF553B",
           "#00cc96",
           "#ab63fa",
           "#FFA15A",
           "#19d3f3",
           "#FF6692",
           "#B6E880",
           "#FF97FF",
           "#FECB52"
          ],
          "font": {
           "color": "#2a3f5f"
          },
          "geo": {
           "bgcolor": "white",
           "lakecolor": "white",
           "landcolor": "#E5ECF6",
           "showlakes": true,
           "showland": true,
           "subunitcolor": "white"
          },
          "hoverlabel": {
           "align": "left"
          },
          "hovermode": "closest",
          "mapbox": {
           "style": "light"
          },
          "paper_bgcolor": "white",
          "plot_bgcolor": "#E5ECF6",
          "polar": {
           "angularaxis": {
            "gridcolor": "white",
            "linecolor": "white",
            "ticks": ""
           },
           "bgcolor": "#E5ECF6",
           "radialaxis": {
            "gridcolor": "white",
            "linecolor": "white",
            "ticks": ""
           }
          },
          "scene": {
           "xaxis": {
            "backgroundcolor": "#E5ECF6",
            "gridcolor": "white",
            "gridwidth": 2,
            "linecolor": "white",
            "showbackground": true,
            "ticks": "",
            "zerolinecolor": "white"
           },
           "yaxis": {
            "backgroundcolor": "#E5ECF6",
            "gridcolor": "white",
            "gridwidth": 2,
            "linecolor": "white",
            "showbackground": true,
            "ticks": "",
            "zerolinecolor": "white"
           },
           "zaxis": {
            "backgroundcolor": "#E5ECF6",
            "gridcolor": "white",
            "gridwidth": 2,
            "linecolor": "white",
            "showbackground": true,
            "ticks": "",
            "zerolinecolor": "white"
           }
          },
          "shapedefaults": {
           "line": {
            "color": "#2a3f5f"
           }
          },
          "ternary": {
           "aaxis": {
            "gridcolor": "white",
            "linecolor": "white",
            "ticks": ""
           },
           "baxis": {
            "gridcolor": "white",
            "linecolor": "white",
            "ticks": ""
           },
           "bgcolor": "#E5ECF6",
           "caxis": {
            "gridcolor": "white",
            "linecolor": "white",
            "ticks": ""
           }
          },
          "title": {
           "x": 0.05
          },
          "xaxis": {
           "automargin": true,
           "gridcolor": "white",
           "linecolor": "white",
           "ticks": "",
           "title": {
            "standoff": 15
           },
           "zerolinecolor": "white",
           "zerolinewidth": 2
          },
          "yaxis": {
           "automargin": true,
           "gridcolor": "white",
           "linecolor": "white",
           "ticks": "",
           "title": {
            "standoff": 15
           },
           "zerolinecolor": "white",
           "zerolinewidth": 2
          }
         }
        },
        "title": {
         "text": "Bubble Chart Categórico: Nota média por Ano"
        },
        "xaxis": {
         "anchor": "y",
         "domain": [
          0,
          1
         ],
         "title": {
          "text": "Ano"
         },
         "type": "category"
        },
        "yaxis": {
         "anchor": "x",
         "domain": [
          0,
          1
         ],
         "title": {
          "text": "index"
         }
        }
       }
      }
     },
     "metadata": {},
     "output_type": "display_data"
    }
   ],
   "source": [
    "import plotly.express as px\n",
    "\n",
    "\n",
    "df['nota_media'] = df[['critic_score', 'audience_score']].mean(axis=1)\n",
    "fig_bubble = px.scatter(\n",
    "    df,\n",
    "    x='movieYear',\n",
    "    y='nota_media',\n",
    "    size='nota_media',\n",
    "    color='nota_media',\n",
    "    hover_name='movieTitle',\n",
    "    title='Bubble Chart: Nota média vs Ano',\n",
    "    labels={'movieYear': 'Ano', 'nota_media': 'Nota média'}\n",
    ")\n",
    "fig_bubble.show()\n",
    "\n",
    "\n",
    "fig_hist = px.histogram(\n",
    "    df,\n",
    "    x='nota_media',\n",
    "    nbins=20,\n",
    "    title='Distribuição das notas médias',\n",
    "    labels={'nota_media': 'Nota média'}\n",
    ")\n",
    "fig_hist.show()\n",
    "\n",
    "\n",
    "fig_box = px.box(\n",
    "    df,\n",
    "    x='movieYear',\n",
    "    y='nota_media',\n",
    "    title='Variação das notas médias por ano',\n",
    "    labels={'movieYear': 'Ano', 'nota_media': 'Nota média'}\n",
    ")\n",
    "fig_box.show()\n",
    "\n",
    "\n",
    "top_filmes = df.nlargest(20, 'nota_media')\n",
    "fig_bar = px.bar(\n",
    "    top_filmes,\n",
    "    x='nota_media',\n",
    "    y='movieTitle',\n",
    "    orientation='h',\n",
    "    title='Top 20 filmes por nota média',\n",
    "    labels={'nota_media': 'Nota média', 'movieTitle': 'Filme'}\n",
    ")\n",
    "fig_bar.update_layout(yaxis={'categoryorder':'total ascending'})\n",
    "fig_bar.show()\n",
    "\n",
    "\n",
    "fig_scatter = px.scatter(\n",
    "    df,\n",
    "    x='critic_score',\n",
    "    y='audience_score',\n",
    "    hover_name='movieTitle',\n",
    "    title='Críticos vs Público',\n",
    "    labels={'critic_score': 'Nota Críticos', 'audience_score': 'Nota Público'}\n",
    ")\n",
    "fig_scatter.show()\n",
    "\n",
    "\n",
    "fig_year = px.histogram(\n",
    "    df,\n",
    "    x='movieYear',\n",
    "    nbins=20,\n",
    "    title='Número de filmes por ano',\n",
    "    labels={'movieYear': 'Ano', 'count': 'Quantidade'}\n",
    ")\n",
    "fig_year.show()\n",
    "\n",
    "\n",
    "df['diff_score'] = abs(df['critic_score'] - df['audience_score'])\n",
    "top_diff = df.nlargest(20, 'diff_score')\n",
    "fig_diff = px.bar(\n",
    "    top_diff,\n",
    "    x='diff_score',\n",
    "    y='movieTitle',\n",
    "    orientation='h',\n",
    "    title='Top 20 filmes com maior diferença Críticos x Público',\n",
    "    labels={'diff_score': 'Diferença de notas', 'movieTitle': 'Filme'}\n",
    ")\n",
    "fig_diff.update_layout(yaxis={'categoryorder':'total ascending'})\n",
    "fig_diff.show()\n",
    "\n",
    "\n",
    "fig_bubble_cat = px.scatter(\n",
    "    df,\n",
    "    x='movieYear',      \n",
    "    size='nota_media', \n",
    "    color='nota_media', \n",
    "    hover_name='movieTitle',\n",
    "    title='Bubble Chart Categórico: Nota média por Ano',\n",
    "    labels={'movieYear': 'Ano', 'nota_media': 'Nota Média'}\n",
    ")\n",
    "\n",
    "fig_bubble_cat.update_xaxes(type='category')  \n",
    "fig_bubble_cat.show()\n",
    "\n",
    "\n",
    "\n",
    "\n"
   ]
  }
 ],
 "metadata": {
  "kernelspec": {
   "display_name": "Python 3",
   "language": "python",
   "name": "python3"
  },
  "language_info": {
   "codemirror_mode": {
    "name": "ipython",
    "version": 3
   },
   "file_extension": ".py",
   "mimetype": "text/x-python",
   "name": "python",
   "nbconvert_exporter": "python",
   "pygments_lexer": "ipython3",
   "version": "3.11.9"
  }
 },
 "nbformat": 4,
 "nbformat_minor": 5
}
